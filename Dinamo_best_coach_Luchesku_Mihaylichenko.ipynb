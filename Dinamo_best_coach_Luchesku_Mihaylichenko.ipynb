{
  "nbformat": 4,
  "nbformat_minor": 0,
  "metadata": {
    "colab": {
      "name": "Dinamo-best-coach-Luchesku-Mihaylichenko.ipynb",
      "provenance": [],
      "collapsed_sections": [],
      "toc_visible": true,
      "authorship_tag": "ABX9TyO1faI3xLbCBP/N58fvZwqS",
      "include_colab_link": true
    },
    "kernelspec": {
      "name": "python3",
      "display_name": "Python 3"
    },
    "language_info": {
      "name": "python"
    }
  },
  "cells": [
    {
      "cell_type": "markdown",
      "metadata": {
        "id": "view-in-github",
        "colab_type": "text"
      },
      "source": [
        "<a href=\"https://colab.research.google.com/github/StanislavChesnokov/Dinamo-Best-Coach-Luchesku-Mihaylichenko/blob/main/Dinamo_best_coach_Luchesku_Mihaylichenko.ipynb\" target=\"_parent\"><img src=\"https://colab.research.google.com/assets/colab-badge.svg\" alt=\"Open In Colab\"/></a>"
      ]
    },
    {
      "cell_type": "markdown",
      "metadata": {
        "id": "HsgiuVBAVVDp"
      },
      "source": [
        "# Import Data"
      ]
    },
    {
      "cell_type": "code",
      "metadata": {
        "id": "sV1SGEffNC1_"
      },
      "source": [
        "import matplotlib.pyplot as plt\n",
        "import numpy as np\n",
        "import pandas as pd\n",
        "import seaborn as sns\n",
        "from tqdm import tqdm_notebook\n",
        "import sklearn"
      ],
      "execution_count": null,
      "outputs": []
    },
    {
      "cell_type": "code",
      "metadata": {
        "id": "-QRy_1OK1E7_",
        "colab": {
          "base_uri": "https://localhost:8080/"
        },
        "outputId": "927f2301-6576-48a7-87d8-1fca5fe07905"
      },
      "source": [
        "from scipy import stats\n",
        "from statsmodels.stats.descriptivestats import sign_test\n",
        "from statsmodels.stats.weightstats import zconfint\n",
        "import scipy\n",
        "import statsmodels\n",
        "from statsmodels.stats.weightstats import *\n",
        "from statsmodels.stats.proportion import proportion_confint\n",
        "from statsmodels.stats.proportion import samplesize_confint_proportion"
      ],
      "execution_count": null,
      "outputs": [
        {
          "output_type": "stream",
          "name": "stderr",
          "text": [
            "/usr/local/lib/python3.7/dist-packages/statsmodels/tools/_testing.py:19: FutureWarning: pandas.util.testing is deprecated. Use the functions in the public API at pandas.testing instead.\n",
            "  import pandas.util.testing as tm\n"
          ]
        }
      ]
    },
    {
      "cell_type": "code",
      "metadata": {
        "colab": {
          "base_uri": "https://localhost:8080/"
        },
        "id": "qBHWPPzrRscg",
        "outputId": "31058b3a-d6c5-4c6e-d8db-26f0573f5c37"
      },
      "source": [
        "from google.colab import drive\n",
        "drive.mount('/content/drive')"
      ],
      "execution_count": null,
      "outputs": [
        {
          "output_type": "stream",
          "name": "stdout",
          "text": [
            "Mounted at /content/drive\n"
          ]
        }
      ]
    },
    {
      "cell_type": "code",
      "metadata": {
        "id": "INxkZ-6iRwBU"
      },
      "source": [
        "df_2021 = pd.read_excel('/content/drive/MyDrive/Datasets/dinamo-2020.xlsx', sheet_name='Лист2')"
      ],
      "execution_count": null,
      "outputs": []
    },
    {
      "cell_type": "code",
      "metadata": {
        "colab": {
          "base_uri": "https://localhost:8080/",
          "height": 359
        },
        "id": "JU0m_gU2SnBv",
        "outputId": "b6485670-0faf-4a59-c03f-2db164e47726"
      },
      "source": [
        "df_2021.head(10)"
      ],
      "execution_count": null,
      "outputs": [
        {
          "output_type": "execute_result",
          "data": {
            "text/html": [
              "<div>\n",
              "<style scoped>\n",
              "    .dataframe tbody tr th:only-of-type {\n",
              "        vertical-align: middle;\n",
              "    }\n",
              "\n",
              "    .dataframe tbody tr th {\n",
              "        vertical-align: top;\n",
              "    }\n",
              "\n",
              "    .dataframe thead th {\n",
              "        text-align: right;\n",
              "    }\n",
              "</style>\n",
              "<table border=\"1\" class=\"dataframe\">\n",
              "  <thead>\n",
              "    <tr style=\"text-align: right;\">\n",
              "      <th></th>\n",
              "      <th>Тур</th>\n",
              "      <th>Дата</th>\n",
              "      <th>Команда1</th>\n",
              "      <th>Команда2</th>\n",
              "      <th>Счет</th>\n",
              "    </tr>\n",
              "  </thead>\n",
              "  <tbody>\n",
              "    <tr>\n",
              "      <th>0</th>\n",
              "      <td>1-Й ТУР</td>\n",
              "      <td>21.08.20</td>\n",
              "      <td>Олимпик</td>\n",
              "      <td>Динамо</td>\n",
              "      <td>1 : 4</td>\n",
              "    </tr>\n",
              "    <tr>\n",
              "      <th>1</th>\n",
              "      <td>2-Й ТУР</td>\n",
              "      <td>11.09.20</td>\n",
              "      <td>Динамо</td>\n",
              "      <td>Десна</td>\n",
              "      <td>0 : 0</td>\n",
              "    </tr>\n",
              "    <tr>\n",
              "      <th>2</th>\n",
              "      <td>3-Й ТУР</td>\n",
              "      <td>19.09.20</td>\n",
              "      <td>Динамо</td>\n",
              "      <td>ФК Львов</td>\n",
              "      <td>3 : 1</td>\n",
              "    </tr>\n",
              "    <tr>\n",
              "      <th>3</th>\n",
              "      <td>4-Й ТУР</td>\n",
              "      <td>26.09.20</td>\n",
              "      <td>ФК Минай</td>\n",
              "      <td>Динамо</td>\n",
              "      <td>0 : 4</td>\n",
              "    </tr>\n",
              "    <tr>\n",
              "      <th>4</th>\n",
              "      <td>5-Й ТУР</td>\n",
              "      <td>04.10.20</td>\n",
              "      <td>Динамо</td>\n",
              "      <td>Заря</td>\n",
              "      <td>1 : 1</td>\n",
              "    </tr>\n",
              "    <tr>\n",
              "      <th>5</th>\n",
              "      <td>6-Й ТУР</td>\n",
              "      <td>17.10.20</td>\n",
              "      <td>Рух</td>\n",
              "      <td>Динамо</td>\n",
              "      <td>0 : 2</td>\n",
              "    </tr>\n",
              "    <tr>\n",
              "      <th>6</th>\n",
              "      <td>7-Й ТУР</td>\n",
              "      <td>24.10.20</td>\n",
              "      <td>Динамо</td>\n",
              "      <td>ФК Александрия</td>\n",
              "      <td>1 : 0</td>\n",
              "    </tr>\n",
              "    <tr>\n",
              "      <th>7</th>\n",
              "      <td>8-Й ТУР</td>\n",
              "      <td>31.10.20</td>\n",
              "      <td>СК Днепр-1</td>\n",
              "      <td>Динамо</td>\n",
              "      <td>1 : 2</td>\n",
              "    </tr>\n",
              "    <tr>\n",
              "      <th>8</th>\n",
              "      <td>9-Й ТУР</td>\n",
              "      <td>08.11.20</td>\n",
              "      <td>Динамо</td>\n",
              "      <td>Шахтер</td>\n",
              "      <td>0 : 3</td>\n",
              "    </tr>\n",
              "    <tr>\n",
              "      <th>9</th>\n",
              "      <td>10-Й ТУР</td>\n",
              "      <td>21.11.20</td>\n",
              "      <td>Ингулец</td>\n",
              "      <td>Динамо</td>\n",
              "      <td>0 : 2</td>\n",
              "    </tr>\n",
              "  </tbody>\n",
              "</table>\n",
              "</div>"
            ],
            "text/plain": [
              "        Тур      Дата    Команда1        Команда2   Счет\n",
              "0   1-Й ТУР  21.08.20     Олимпик          Динамо  1 : 4\n",
              "1   2-Й ТУР  11.09.20      Динамо           Десна  0 : 0\n",
              "2   3-Й ТУР  19.09.20      Динамо        ФК Львов  3 : 1\n",
              "3   4-Й ТУР  26.09.20    ФК Минай          Динамо  0 : 4\n",
              "4   5-Й ТУР  04.10.20      Динамо            Заря  1 : 1\n",
              "5   6-Й ТУР  17.10.20         Рух          Динамо  0 : 2\n",
              "6   7-Й ТУР  24.10.20      Динамо  ФК Александрия  1 : 0\n",
              "7   8-Й ТУР  31.10.20  СК Днепр-1          Динамо  1 : 2\n",
              "8   9-Й ТУР  08.11.20      Динамо          Шахтер  0 : 3\n",
              "9  10-Й ТУР  21.11.20     Ингулец          Динамо  0 : 2"
            ]
          },
          "metadata": {},
          "execution_count": 5
        }
      ]
    },
    {
      "cell_type": "code",
      "metadata": {
        "colab": {
          "base_uri": "https://localhost:8080/",
          "height": 204
        },
        "id": "ldLEpFfxaHxg",
        "outputId": "f4f17da8-8046-4246-9124-298a9372bbe9"
      },
      "source": [
        "df_1920 = pd.read_excel('/content/drive/MyDrive/Datasets/dinamo-2020.xlsx', sheet_name='Лист4')\n",
        "df_1920.head()"
      ],
      "execution_count": null,
      "outputs": [
        {
          "output_type": "execute_result",
          "data": {
            "text/html": [
              "<div>\n",
              "<style scoped>\n",
              "    .dataframe tbody tr th:only-of-type {\n",
              "        vertical-align: middle;\n",
              "    }\n",
              "\n",
              "    .dataframe tbody tr th {\n",
              "        vertical-align: top;\n",
              "    }\n",
              "\n",
              "    .dataframe thead th {\n",
              "        text-align: right;\n",
              "    }\n",
              "</style>\n",
              "<table border=\"1\" class=\"dataframe\">\n",
              "  <thead>\n",
              "    <tr style=\"text-align: right;\">\n",
              "      <th></th>\n",
              "      <th>Тур</th>\n",
              "      <th>Дата</th>\n",
              "      <th>Команда1</th>\n",
              "      <th>Команда2</th>\n",
              "      <th>Счет</th>\n",
              "    </tr>\n",
              "  </thead>\n",
              "  <tbody>\n",
              "    <tr>\n",
              "      <th>0</th>\n",
              "      <td>1-Й ТУР</td>\n",
              "      <td>31.07.19</td>\n",
              "      <td>Карпаты</td>\n",
              "      <td>Динамо</td>\n",
              "      <td>0 : 2</td>\n",
              "    </tr>\n",
              "    <tr>\n",
              "      <th>1</th>\n",
              "      <td>2-Й ТУР</td>\n",
              "      <td>03.08.19</td>\n",
              "      <td>ФК Львов</td>\n",
              "      <td>Динамо</td>\n",
              "      <td>0 : 3</td>\n",
              "    </tr>\n",
              "    <tr>\n",
              "      <th>2</th>\n",
              "      <td>3-Й ТУР</td>\n",
              "      <td>10.08.19</td>\n",
              "      <td>Динамо</td>\n",
              "      <td>Шахтер</td>\n",
              "      <td>1 : 2</td>\n",
              "    </tr>\n",
              "    <tr>\n",
              "      <th>3</th>\n",
              "      <td>5-Й ТУР</td>\n",
              "      <td>24.08.19</td>\n",
              "      <td>Динамо</td>\n",
              "      <td>Олимпик</td>\n",
              "      <td>1 : 1</td>\n",
              "    </tr>\n",
              "    <tr>\n",
              "      <th>4</th>\n",
              "      <td>6-Й ТУР</td>\n",
              "      <td>01.09.19</td>\n",
              "      <td>Заря</td>\n",
              "      <td>Динамо</td>\n",
              "      <td>2 : 2</td>\n",
              "    </tr>\n",
              "  </tbody>\n",
              "</table>\n",
              "</div>"
            ],
            "text/plain": [
              "       Тур      Дата  Команда1 Команда2   Счет\n",
              "0  1-Й ТУР  31.07.19   Карпаты   Динамо  0 : 2\n",
              "1  2-Й ТУР  03.08.19  ФК Львов   Динамо  0 : 3\n",
              "2  3-Й ТУР  10.08.19    Динамо   Шахтер  1 : 2\n",
              "3  5-Й ТУР  24.08.19    Динамо  Олимпик  1 : 1\n",
              "4  6-Й ТУР  01.09.19      Заря   Динамо  2 : 2"
            ]
          },
          "metadata": {},
          "execution_count": 6
        }
      ]
    },
    {
      "cell_type": "code",
      "metadata": {
        "colab": {
          "base_uri": "https://localhost:8080/"
        },
        "id": "cUAv-Ra4TT-c",
        "outputId": "90dc57a5-8451-472d-925d-c38de4e94044"
      },
      "source": [
        "df_1920.info()"
      ],
      "execution_count": null,
      "outputs": [
        {
          "output_type": "stream",
          "name": "stdout",
          "text": [
            "<class 'pandas.core.frame.DataFrame'>\n",
            "RangeIndex: 32 entries, 0 to 31\n",
            "Data columns (total 5 columns):\n",
            " #   Column    Non-Null Count  Dtype \n",
            "---  ------    --------------  ----- \n",
            " 0   Тур       32 non-null     object\n",
            " 1   Дата      32 non-null     object\n",
            " 2   Команда1  32 non-null     object\n",
            " 3   Команда2  32 non-null     object\n",
            " 4   Счет      32 non-null     object\n",
            "dtypes: object(5)\n",
            "memory usage: 1.4+ KB\n"
          ]
        }
      ]
    },
    {
      "cell_type": "code",
      "metadata": {
        "colab": {
          "base_uri": "https://localhost:8080/"
        },
        "id": "4JJvqZ0varFr",
        "outputId": "802be96a-2325-4663-fa14-46b01f70cb91"
      },
      "source": [
        "df_2021.info()"
      ],
      "execution_count": null,
      "outputs": [
        {
          "output_type": "stream",
          "name": "stdout",
          "text": [
            "<class 'pandas.core.frame.DataFrame'>\n",
            "RangeIndex: 26 entries, 0 to 25\n",
            "Data columns (total 5 columns):\n",
            " #   Column    Non-Null Count  Dtype \n",
            "---  ------    --------------  ----- \n",
            " 0   Тур       26 non-null     object\n",
            " 1   Дата      26 non-null     object\n",
            " 2   Команда1  26 non-null     object\n",
            " 3   Команда2  26 non-null     object\n",
            " 4   Счет      26 non-null     object\n",
            "dtypes: object(5)\n",
            "memory usage: 1.1+ KB\n"
          ]
        }
      ]
    },
    {
      "cell_type": "code",
      "metadata": {
        "colab": {
          "base_uri": "https://localhost:8080/",
          "height": 1000
        },
        "id": "i6IgkphdavJx",
        "outputId": "7772d95e-c1d4-4a5f-a4e2-ae4b60100ee6"
      },
      "source": [
        "df = pd.concat([df_1920,df_2021], ignore_index=True)\n",
        "df.head(34)"
      ],
      "execution_count": null,
      "outputs": [
        {
          "output_type": "execute_result",
          "data": {
            "text/html": [
              "<div>\n",
              "<style scoped>\n",
              "    .dataframe tbody tr th:only-of-type {\n",
              "        vertical-align: middle;\n",
              "    }\n",
              "\n",
              "    .dataframe tbody tr th {\n",
              "        vertical-align: top;\n",
              "    }\n",
              "\n",
              "    .dataframe thead th {\n",
              "        text-align: right;\n",
              "    }\n",
              "</style>\n",
              "<table border=\"1\" class=\"dataframe\">\n",
              "  <thead>\n",
              "    <tr style=\"text-align: right;\">\n",
              "      <th></th>\n",
              "      <th>Тур</th>\n",
              "      <th>Дата</th>\n",
              "      <th>Команда1</th>\n",
              "      <th>Команда2</th>\n",
              "      <th>Счет</th>\n",
              "    </tr>\n",
              "  </thead>\n",
              "  <tbody>\n",
              "    <tr>\n",
              "      <th>0</th>\n",
              "      <td>1-Й ТУР</td>\n",
              "      <td>31.07.19</td>\n",
              "      <td>Карпаты</td>\n",
              "      <td>Динамо</td>\n",
              "      <td>0 : 2</td>\n",
              "    </tr>\n",
              "    <tr>\n",
              "      <th>1</th>\n",
              "      <td>2-Й ТУР</td>\n",
              "      <td>03.08.19</td>\n",
              "      <td>ФК Львов</td>\n",
              "      <td>Динамо</td>\n",
              "      <td>0 : 3</td>\n",
              "    </tr>\n",
              "    <tr>\n",
              "      <th>2</th>\n",
              "      <td>3-Й ТУР</td>\n",
              "      <td>10.08.19</td>\n",
              "      <td>Динамо</td>\n",
              "      <td>Шахтер</td>\n",
              "      <td>1 : 2</td>\n",
              "    </tr>\n",
              "    <tr>\n",
              "      <th>3</th>\n",
              "      <td>5-Й ТУР</td>\n",
              "      <td>24.08.19</td>\n",
              "      <td>Динамо</td>\n",
              "      <td>Олимпик</td>\n",
              "      <td>1 : 1</td>\n",
              "    </tr>\n",
              "    <tr>\n",
              "      <th>4</th>\n",
              "      <td>6-Й ТУР</td>\n",
              "      <td>01.09.19</td>\n",
              "      <td>Заря</td>\n",
              "      <td>Динамо</td>\n",
              "      <td>2 : 2</td>\n",
              "    </tr>\n",
              "    <tr>\n",
              "      <th>5</th>\n",
              "      <td>7-Й ТУР</td>\n",
              "      <td>15.09.19</td>\n",
              "      <td>Динамо</td>\n",
              "      <td>Десна</td>\n",
              "      <td>1 : 2</td>\n",
              "    </tr>\n",
              "    <tr>\n",
              "      <th>6</th>\n",
              "      <td>8-Й ТУР</td>\n",
              "      <td>22.09.19</td>\n",
              "      <td>Ворскла</td>\n",
              "      <td>Динамо</td>\n",
              "      <td>0 : 5</td>\n",
              "    </tr>\n",
              "    <tr>\n",
              "      <th>7</th>\n",
              "      <td>4-Й ТУР</td>\n",
              "      <td>25.09.19</td>\n",
              "      <td>ФК Мариуполь</td>\n",
              "      <td>Динамо</td>\n",
              "      <td>0 : 1</td>\n",
              "    </tr>\n",
              "    <tr>\n",
              "      <th>8</th>\n",
              "      <td>9-Й ТУР</td>\n",
              "      <td>29.09.19</td>\n",
              "      <td>Динамо</td>\n",
              "      <td>СК Днепр-1</td>\n",
              "      <td>2 : 0</td>\n",
              "    </tr>\n",
              "    <tr>\n",
              "      <th>9</th>\n",
              "      <td>10-Й ТУР</td>\n",
              "      <td>06.10.19</td>\n",
              "      <td>Колос</td>\n",
              "      <td>Динамо</td>\n",
              "      <td>0 : 4</td>\n",
              "    </tr>\n",
              "    <tr>\n",
              "      <th>10</th>\n",
              "      <td>11-Й ТУР</td>\n",
              "      <td>20.10.19</td>\n",
              "      <td>Динамо</td>\n",
              "      <td>ФК Александрия</td>\n",
              "      <td>1 : 0</td>\n",
              "    </tr>\n",
              "    <tr>\n",
              "      <th>11</th>\n",
              "      <td>12-Й ТУР</td>\n",
              "      <td>27.10.19</td>\n",
              "      <td>Динамо</td>\n",
              "      <td>Карпаты</td>\n",
              "      <td>1 : 1</td>\n",
              "    </tr>\n",
              "    <tr>\n",
              "      <th>12</th>\n",
              "      <td>13-Й ТУР</td>\n",
              "      <td>03.11.19</td>\n",
              "      <td>Динамо</td>\n",
              "      <td>ФК Львов</td>\n",
              "      <td>4 : 0</td>\n",
              "    </tr>\n",
              "    <tr>\n",
              "      <th>13</th>\n",
              "      <td>14-Й ТУР</td>\n",
              "      <td>10.11.19</td>\n",
              "      <td>Шахтер</td>\n",
              "      <td>Динамо</td>\n",
              "      <td>1 : 0</td>\n",
              "    </tr>\n",
              "    <tr>\n",
              "      <th>14</th>\n",
              "      <td>15-Й ТУР</td>\n",
              "      <td>24.11.19</td>\n",
              "      <td>Динамо</td>\n",
              "      <td>ФК Мариуполь</td>\n",
              "      <td>3 : 0</td>\n",
              "    </tr>\n",
              "    <tr>\n",
              "      <th>15</th>\n",
              "      <td>16-Й ТУР</td>\n",
              "      <td>01.12.19</td>\n",
              "      <td>Олимпик</td>\n",
              "      <td>Динамо</td>\n",
              "      <td>1 : 3</td>\n",
              "    </tr>\n",
              "    <tr>\n",
              "      <th>16</th>\n",
              "      <td>17-Й ТУР</td>\n",
              "      <td>08.12.19</td>\n",
              "      <td>Динамо</td>\n",
              "      <td>Заря</td>\n",
              "      <td>1 : 2</td>\n",
              "    </tr>\n",
              "    <tr>\n",
              "      <th>17</th>\n",
              "      <td>18-Й ТУР</td>\n",
              "      <td>15.12.19</td>\n",
              "      <td>Десна</td>\n",
              "      <td>Динамо</td>\n",
              "      <td>0 : 1</td>\n",
              "    </tr>\n",
              "    <tr>\n",
              "      <th>18</th>\n",
              "      <td>19-Й ТУР</td>\n",
              "      <td>22.02.20</td>\n",
              "      <td>Динамо</td>\n",
              "      <td>Ворскла</td>\n",
              "      <td>2 : 1</td>\n",
              "    </tr>\n",
              "    <tr>\n",
              "      <th>19</th>\n",
              "      <td>20-Й ТУР</td>\n",
              "      <td>28.02.20</td>\n",
              "      <td>СК Днепр-1</td>\n",
              "      <td>Динамо</td>\n",
              "      <td>3 : 1</td>\n",
              "    </tr>\n",
              "    <tr>\n",
              "      <th>20</th>\n",
              "      <td>21-Й ТУР</td>\n",
              "      <td>03.03.20</td>\n",
              "      <td>Динамо</td>\n",
              "      <td>Колос</td>\n",
              "      <td>2 : 0</td>\n",
              "    </tr>\n",
              "    <tr>\n",
              "      <th>21</th>\n",
              "      <td>22-Й ТУР</td>\n",
              "      <td>07.03.20</td>\n",
              "      <td>ФК Александрия</td>\n",
              "      <td>Динамо</td>\n",
              "      <td>1 : 3</td>\n",
              "    </tr>\n",
              "    <tr>\n",
              "      <th>22</th>\n",
              "      <td>23-Й ТУР</td>\n",
              "      <td>15.03.20</td>\n",
              "      <td>Динамо</td>\n",
              "      <td>Десна</td>\n",
              "      <td>1 : 1</td>\n",
              "    </tr>\n",
              "    <tr>\n",
              "      <th>23</th>\n",
              "      <td>24-Й ТУР</td>\n",
              "      <td>31.05.20</td>\n",
              "      <td>Шахтер</td>\n",
              "      <td>Динамо</td>\n",
              "      <td>3 : 1</td>\n",
              "    </tr>\n",
              "    <tr>\n",
              "      <th>24</th>\n",
              "      <td>25-Й ТУР</td>\n",
              "      <td>07.06.20</td>\n",
              "      <td>Динамо</td>\n",
              "      <td>ФК Александрия</td>\n",
              "      <td>5 : 1</td>\n",
              "    </tr>\n",
              "    <tr>\n",
              "      <th>25</th>\n",
              "      <td>26-Й ТУР</td>\n",
              "      <td>13.06.20</td>\n",
              "      <td>Заря</td>\n",
              "      <td>Динамо</td>\n",
              "      <td>1 : 3</td>\n",
              "    </tr>\n",
              "    <tr>\n",
              "      <th>26</th>\n",
              "      <td>27-Й ТУР</td>\n",
              "      <td>22.06.20</td>\n",
              "      <td>Динамо</td>\n",
              "      <td>Колос</td>\n",
              "      <td>2 : 1</td>\n",
              "    </tr>\n",
              "    <tr>\n",
              "      <th>27</th>\n",
              "      <td>28-Й ТУР</td>\n",
              "      <td>28.06.20</td>\n",
              "      <td>Десна</td>\n",
              "      <td>Динамо</td>\n",
              "      <td>3 : 2</td>\n",
              "    </tr>\n",
              "    <tr>\n",
              "      <th>28</th>\n",
              "      <td>29-Й ТУР</td>\n",
              "      <td>04.07.20</td>\n",
              "      <td>Динамо</td>\n",
              "      <td>Шахтер</td>\n",
              "      <td>2 : 3</td>\n",
              "    </tr>\n",
              "    <tr>\n",
              "      <th>29</th>\n",
              "      <td>30-Й ТУР</td>\n",
              "      <td>12.07.20</td>\n",
              "      <td>ФК Александрия</td>\n",
              "      <td>Динамо</td>\n",
              "      <td>2 : 2</td>\n",
              "    </tr>\n",
              "    <tr>\n",
              "      <th>30</th>\n",
              "      <td>31-Й ТУР</td>\n",
              "      <td>16.07.20</td>\n",
              "      <td>Динамо</td>\n",
              "      <td>Заря</td>\n",
              "      <td>3 : 1</td>\n",
              "    </tr>\n",
              "    <tr>\n",
              "      <th>31</th>\n",
              "      <td>32-Й ТУР</td>\n",
              "      <td>19.07.20</td>\n",
              "      <td>Колос</td>\n",
              "      <td>Динамо</td>\n",
              "      <td>2 : 0</td>\n",
              "    </tr>\n",
              "    <tr>\n",
              "      <th>32</th>\n",
              "      <td>1-Й ТУР</td>\n",
              "      <td>21.08.20</td>\n",
              "      <td>Олимпик</td>\n",
              "      <td>Динамо</td>\n",
              "      <td>1 : 4</td>\n",
              "    </tr>\n",
              "    <tr>\n",
              "      <th>33</th>\n",
              "      <td>2-Й ТУР</td>\n",
              "      <td>11.09.20</td>\n",
              "      <td>Динамо</td>\n",
              "      <td>Десна</td>\n",
              "      <td>0 : 0</td>\n",
              "    </tr>\n",
              "  </tbody>\n",
              "</table>\n",
              "</div>"
            ],
            "text/plain": [
              "         Тур      Дата        Команда1        Команда2   Счет\n",
              "0    1-Й ТУР  31.07.19         Карпаты          Динамо  0 : 2\n",
              "1    2-Й ТУР  03.08.19        ФК Львов          Динамо  0 : 3\n",
              "2    3-Й ТУР  10.08.19          Динамо          Шахтер  1 : 2\n",
              "3    5-Й ТУР  24.08.19          Динамо         Олимпик  1 : 1\n",
              "4    6-Й ТУР  01.09.19            Заря          Динамо  2 : 2\n",
              "5    7-Й ТУР  15.09.19          Динамо           Десна  1 : 2\n",
              "6    8-Й ТУР  22.09.19         Ворскла          Динамо  0 : 5\n",
              "7    4-Й ТУР  25.09.19    ФК Мариуполь          Динамо  0 : 1\n",
              "8    9-Й ТУР  29.09.19          Динамо      СК Днепр-1  2 : 0\n",
              "9   10-Й ТУР  06.10.19           Колос          Динамо  0 : 4\n",
              "10  11-Й ТУР  20.10.19          Динамо  ФК Александрия  1 : 0\n",
              "11  12-Й ТУР  27.10.19          Динамо         Карпаты  1 : 1\n",
              "12  13-Й ТУР  03.11.19          Динамо        ФК Львов  4 : 0\n",
              "13  14-Й ТУР  10.11.19          Шахтер          Динамо  1 : 0\n",
              "14  15-Й ТУР  24.11.19          Динамо    ФК Мариуполь  3 : 0\n",
              "15  16-Й ТУР  01.12.19         Олимпик          Динамо  1 : 3\n",
              "16  17-Й ТУР  08.12.19          Динамо            Заря  1 : 2\n",
              "17  18-Й ТУР  15.12.19           Десна          Динамо  0 : 1\n",
              "18  19-Й ТУР  22.02.20          Динамо         Ворскла  2 : 1\n",
              "19  20-Й ТУР  28.02.20      СК Днепр-1          Динамо  3 : 1\n",
              "20  21-Й ТУР  03.03.20          Динамо           Колос  2 : 0\n",
              "21  22-Й ТУР  07.03.20  ФК Александрия          Динамо  1 : 3\n",
              "22  23-Й ТУР  15.03.20          Динамо           Десна  1 : 1\n",
              "23  24-Й ТУР  31.05.20          Шахтер          Динамо  3 : 1\n",
              "24  25-Й ТУР  07.06.20          Динамо  ФК Александрия  5 : 1\n",
              "25  26-Й ТУР  13.06.20            Заря          Динамо  1 : 3\n",
              "26  27-Й ТУР  22.06.20          Динамо           Колос  2 : 1\n",
              "27  28-Й ТУР  28.06.20           Десна          Динамо  3 : 2\n",
              "28  29-Й ТУР  04.07.20          Динамо          Шахтер  2 : 3\n",
              "29  30-Й ТУР  12.07.20  ФК Александрия          Динамо  2 : 2\n",
              "30  31-Й ТУР  16.07.20          Динамо            Заря  3 : 1\n",
              "31  32-Й ТУР  19.07.20           Колос          Динамо  2 : 0\n",
              "32   1-Й ТУР  21.08.20         Олимпик          Динамо  1 : 4\n",
              "33   2-Й ТУР  11.09.20          Динамо           Десна  0 : 0"
            ]
          },
          "metadata": {},
          "execution_count": 9
        }
      ]
    },
    {
      "cell_type": "code",
      "metadata": {
        "colab": {
          "base_uri": "https://localhost:8080/",
          "height": 1000
        },
        "id": "0gFbrc33bpWb",
        "outputId": "8f08f896-fa88-4469-ecb2-8c6a19437908"
      },
      "source": [
        "df['Дата']=pd.to_datetime(df['Дата'], format='%d.%m.%y')\n",
        "df"
      ],
      "execution_count": null,
      "outputs": [
        {
          "output_type": "execute_result",
          "data": {
            "text/html": [
              "<div>\n",
              "<style scoped>\n",
              "    .dataframe tbody tr th:only-of-type {\n",
              "        vertical-align: middle;\n",
              "    }\n",
              "\n",
              "    .dataframe tbody tr th {\n",
              "        vertical-align: top;\n",
              "    }\n",
              "\n",
              "    .dataframe thead th {\n",
              "        text-align: right;\n",
              "    }\n",
              "</style>\n",
              "<table border=\"1\" class=\"dataframe\">\n",
              "  <thead>\n",
              "    <tr style=\"text-align: right;\">\n",
              "      <th></th>\n",
              "      <th>Тур</th>\n",
              "      <th>Дата</th>\n",
              "      <th>Команда1</th>\n",
              "      <th>Команда2</th>\n",
              "      <th>Счет</th>\n",
              "    </tr>\n",
              "  </thead>\n",
              "  <tbody>\n",
              "    <tr>\n",
              "      <th>0</th>\n",
              "      <td>1-Й ТУР</td>\n",
              "      <td>2019-07-31</td>\n",
              "      <td>Карпаты</td>\n",
              "      <td>Динамо</td>\n",
              "      <td>0 : 2</td>\n",
              "    </tr>\n",
              "    <tr>\n",
              "      <th>1</th>\n",
              "      <td>2-Й ТУР</td>\n",
              "      <td>2019-08-03</td>\n",
              "      <td>ФК Львов</td>\n",
              "      <td>Динамо</td>\n",
              "      <td>0 : 3</td>\n",
              "    </tr>\n",
              "    <tr>\n",
              "      <th>2</th>\n",
              "      <td>3-Й ТУР</td>\n",
              "      <td>2019-08-10</td>\n",
              "      <td>Динамо</td>\n",
              "      <td>Шахтер</td>\n",
              "      <td>1 : 2</td>\n",
              "    </tr>\n",
              "    <tr>\n",
              "      <th>3</th>\n",
              "      <td>5-Й ТУР</td>\n",
              "      <td>2019-08-24</td>\n",
              "      <td>Динамо</td>\n",
              "      <td>Олимпик</td>\n",
              "      <td>1 : 1</td>\n",
              "    </tr>\n",
              "    <tr>\n",
              "      <th>4</th>\n",
              "      <td>6-Й ТУР</td>\n",
              "      <td>2019-09-01</td>\n",
              "      <td>Заря</td>\n",
              "      <td>Динамо</td>\n",
              "      <td>2 : 2</td>\n",
              "    </tr>\n",
              "    <tr>\n",
              "      <th>5</th>\n",
              "      <td>7-Й ТУР</td>\n",
              "      <td>2019-09-15</td>\n",
              "      <td>Динамо</td>\n",
              "      <td>Десна</td>\n",
              "      <td>1 : 2</td>\n",
              "    </tr>\n",
              "    <tr>\n",
              "      <th>6</th>\n",
              "      <td>8-Й ТУР</td>\n",
              "      <td>2019-09-22</td>\n",
              "      <td>Ворскла</td>\n",
              "      <td>Динамо</td>\n",
              "      <td>0 : 5</td>\n",
              "    </tr>\n",
              "    <tr>\n",
              "      <th>7</th>\n",
              "      <td>4-Й ТУР</td>\n",
              "      <td>2019-09-25</td>\n",
              "      <td>ФК Мариуполь</td>\n",
              "      <td>Динамо</td>\n",
              "      <td>0 : 1</td>\n",
              "    </tr>\n",
              "    <tr>\n",
              "      <th>8</th>\n",
              "      <td>9-Й ТУР</td>\n",
              "      <td>2019-09-29</td>\n",
              "      <td>Динамо</td>\n",
              "      <td>СК Днепр-1</td>\n",
              "      <td>2 : 0</td>\n",
              "    </tr>\n",
              "    <tr>\n",
              "      <th>9</th>\n",
              "      <td>10-Й ТУР</td>\n",
              "      <td>2019-10-06</td>\n",
              "      <td>Колос</td>\n",
              "      <td>Динамо</td>\n",
              "      <td>0 : 4</td>\n",
              "    </tr>\n",
              "    <tr>\n",
              "      <th>10</th>\n",
              "      <td>11-Й ТУР</td>\n",
              "      <td>2019-10-20</td>\n",
              "      <td>Динамо</td>\n",
              "      <td>ФК Александрия</td>\n",
              "      <td>1 : 0</td>\n",
              "    </tr>\n",
              "    <tr>\n",
              "      <th>11</th>\n",
              "      <td>12-Й ТУР</td>\n",
              "      <td>2019-10-27</td>\n",
              "      <td>Динамо</td>\n",
              "      <td>Карпаты</td>\n",
              "      <td>1 : 1</td>\n",
              "    </tr>\n",
              "    <tr>\n",
              "      <th>12</th>\n",
              "      <td>13-Й ТУР</td>\n",
              "      <td>2019-11-03</td>\n",
              "      <td>Динамо</td>\n",
              "      <td>ФК Львов</td>\n",
              "      <td>4 : 0</td>\n",
              "    </tr>\n",
              "    <tr>\n",
              "      <th>13</th>\n",
              "      <td>14-Й ТУР</td>\n",
              "      <td>2019-11-10</td>\n",
              "      <td>Шахтер</td>\n",
              "      <td>Динамо</td>\n",
              "      <td>1 : 0</td>\n",
              "    </tr>\n",
              "    <tr>\n",
              "      <th>14</th>\n",
              "      <td>15-Й ТУР</td>\n",
              "      <td>2019-11-24</td>\n",
              "      <td>Динамо</td>\n",
              "      <td>ФК Мариуполь</td>\n",
              "      <td>3 : 0</td>\n",
              "    </tr>\n",
              "    <tr>\n",
              "      <th>15</th>\n",
              "      <td>16-Й ТУР</td>\n",
              "      <td>2019-12-01</td>\n",
              "      <td>Олимпик</td>\n",
              "      <td>Динамо</td>\n",
              "      <td>1 : 3</td>\n",
              "    </tr>\n",
              "    <tr>\n",
              "      <th>16</th>\n",
              "      <td>17-Й ТУР</td>\n",
              "      <td>2019-12-08</td>\n",
              "      <td>Динамо</td>\n",
              "      <td>Заря</td>\n",
              "      <td>1 : 2</td>\n",
              "    </tr>\n",
              "    <tr>\n",
              "      <th>17</th>\n",
              "      <td>18-Й ТУР</td>\n",
              "      <td>2019-12-15</td>\n",
              "      <td>Десна</td>\n",
              "      <td>Динамо</td>\n",
              "      <td>0 : 1</td>\n",
              "    </tr>\n",
              "    <tr>\n",
              "      <th>18</th>\n",
              "      <td>19-Й ТУР</td>\n",
              "      <td>2020-02-22</td>\n",
              "      <td>Динамо</td>\n",
              "      <td>Ворскла</td>\n",
              "      <td>2 : 1</td>\n",
              "    </tr>\n",
              "    <tr>\n",
              "      <th>19</th>\n",
              "      <td>20-Й ТУР</td>\n",
              "      <td>2020-02-28</td>\n",
              "      <td>СК Днепр-1</td>\n",
              "      <td>Динамо</td>\n",
              "      <td>3 : 1</td>\n",
              "    </tr>\n",
              "    <tr>\n",
              "      <th>20</th>\n",
              "      <td>21-Й ТУР</td>\n",
              "      <td>2020-03-03</td>\n",
              "      <td>Динамо</td>\n",
              "      <td>Колос</td>\n",
              "      <td>2 : 0</td>\n",
              "    </tr>\n",
              "    <tr>\n",
              "      <th>21</th>\n",
              "      <td>22-Й ТУР</td>\n",
              "      <td>2020-03-07</td>\n",
              "      <td>ФК Александрия</td>\n",
              "      <td>Динамо</td>\n",
              "      <td>1 : 3</td>\n",
              "    </tr>\n",
              "    <tr>\n",
              "      <th>22</th>\n",
              "      <td>23-Й ТУР</td>\n",
              "      <td>2020-03-15</td>\n",
              "      <td>Динамо</td>\n",
              "      <td>Десна</td>\n",
              "      <td>1 : 1</td>\n",
              "    </tr>\n",
              "    <tr>\n",
              "      <th>23</th>\n",
              "      <td>24-Й ТУР</td>\n",
              "      <td>2020-05-31</td>\n",
              "      <td>Шахтер</td>\n",
              "      <td>Динамо</td>\n",
              "      <td>3 : 1</td>\n",
              "    </tr>\n",
              "    <tr>\n",
              "      <th>24</th>\n",
              "      <td>25-Й ТУР</td>\n",
              "      <td>2020-06-07</td>\n",
              "      <td>Динамо</td>\n",
              "      <td>ФК Александрия</td>\n",
              "      <td>5 : 1</td>\n",
              "    </tr>\n",
              "    <tr>\n",
              "      <th>25</th>\n",
              "      <td>26-Й ТУР</td>\n",
              "      <td>2020-06-13</td>\n",
              "      <td>Заря</td>\n",
              "      <td>Динамо</td>\n",
              "      <td>1 : 3</td>\n",
              "    </tr>\n",
              "    <tr>\n",
              "      <th>26</th>\n",
              "      <td>27-Й ТУР</td>\n",
              "      <td>2020-06-22</td>\n",
              "      <td>Динамо</td>\n",
              "      <td>Колос</td>\n",
              "      <td>2 : 1</td>\n",
              "    </tr>\n",
              "    <tr>\n",
              "      <th>27</th>\n",
              "      <td>28-Й ТУР</td>\n",
              "      <td>2020-06-28</td>\n",
              "      <td>Десна</td>\n",
              "      <td>Динамо</td>\n",
              "      <td>3 : 2</td>\n",
              "    </tr>\n",
              "    <tr>\n",
              "      <th>28</th>\n",
              "      <td>29-Й ТУР</td>\n",
              "      <td>2020-07-04</td>\n",
              "      <td>Динамо</td>\n",
              "      <td>Шахтер</td>\n",
              "      <td>2 : 3</td>\n",
              "    </tr>\n",
              "    <tr>\n",
              "      <th>29</th>\n",
              "      <td>30-Й ТУР</td>\n",
              "      <td>2020-07-12</td>\n",
              "      <td>ФК Александрия</td>\n",
              "      <td>Динамо</td>\n",
              "      <td>2 : 2</td>\n",
              "    </tr>\n",
              "    <tr>\n",
              "      <th>30</th>\n",
              "      <td>31-Й ТУР</td>\n",
              "      <td>2020-07-16</td>\n",
              "      <td>Динамо</td>\n",
              "      <td>Заря</td>\n",
              "      <td>3 : 1</td>\n",
              "    </tr>\n",
              "    <tr>\n",
              "      <th>31</th>\n",
              "      <td>32-Й ТУР</td>\n",
              "      <td>2020-07-19</td>\n",
              "      <td>Колос</td>\n",
              "      <td>Динамо</td>\n",
              "      <td>2 : 0</td>\n",
              "    </tr>\n",
              "    <tr>\n",
              "      <th>32</th>\n",
              "      <td>1-Й ТУР</td>\n",
              "      <td>2020-08-21</td>\n",
              "      <td>Олимпик</td>\n",
              "      <td>Динамо</td>\n",
              "      <td>1 : 4</td>\n",
              "    </tr>\n",
              "    <tr>\n",
              "      <th>33</th>\n",
              "      <td>2-Й ТУР</td>\n",
              "      <td>2020-09-11</td>\n",
              "      <td>Динамо</td>\n",
              "      <td>Десна</td>\n",
              "      <td>0 : 0</td>\n",
              "    </tr>\n",
              "    <tr>\n",
              "      <th>34</th>\n",
              "      <td>3-Й ТУР</td>\n",
              "      <td>2020-09-19</td>\n",
              "      <td>Динамо</td>\n",
              "      <td>ФК Львов</td>\n",
              "      <td>3 : 1</td>\n",
              "    </tr>\n",
              "    <tr>\n",
              "      <th>35</th>\n",
              "      <td>4-Й ТУР</td>\n",
              "      <td>2020-09-26</td>\n",
              "      <td>ФК Минай</td>\n",
              "      <td>Динамо</td>\n",
              "      <td>0 : 4</td>\n",
              "    </tr>\n",
              "    <tr>\n",
              "      <th>36</th>\n",
              "      <td>5-Й ТУР</td>\n",
              "      <td>2020-10-04</td>\n",
              "      <td>Динамо</td>\n",
              "      <td>Заря</td>\n",
              "      <td>1 : 1</td>\n",
              "    </tr>\n",
              "    <tr>\n",
              "      <th>37</th>\n",
              "      <td>6-Й ТУР</td>\n",
              "      <td>2020-10-17</td>\n",
              "      <td>Рух</td>\n",
              "      <td>Динамо</td>\n",
              "      <td>0 : 2</td>\n",
              "    </tr>\n",
              "    <tr>\n",
              "      <th>38</th>\n",
              "      <td>7-Й ТУР</td>\n",
              "      <td>2020-10-24</td>\n",
              "      <td>Динамо</td>\n",
              "      <td>ФК Александрия</td>\n",
              "      <td>1 : 0</td>\n",
              "    </tr>\n",
              "    <tr>\n",
              "      <th>39</th>\n",
              "      <td>8-Й ТУР</td>\n",
              "      <td>2020-10-31</td>\n",
              "      <td>СК Днепр-1</td>\n",
              "      <td>Динамо</td>\n",
              "      <td>1 : 2</td>\n",
              "    </tr>\n",
              "    <tr>\n",
              "      <th>40</th>\n",
              "      <td>9-Й ТУР</td>\n",
              "      <td>2020-11-08</td>\n",
              "      <td>Динамо</td>\n",
              "      <td>Шахтер</td>\n",
              "      <td>0 : 3</td>\n",
              "    </tr>\n",
              "    <tr>\n",
              "      <th>41</th>\n",
              "      <td>10-Й ТУР</td>\n",
              "      <td>2020-11-21</td>\n",
              "      <td>Ингулец</td>\n",
              "      <td>Динамо</td>\n",
              "      <td>0 : 2</td>\n",
              "    </tr>\n",
              "    <tr>\n",
              "      <th>42</th>\n",
              "      <td>11-Й ТУР</td>\n",
              "      <td>2020-11-28</td>\n",
              "      <td>Динамо</td>\n",
              "      <td>Ворскла</td>\n",
              "      <td>2 : 0</td>\n",
              "    </tr>\n",
              "    <tr>\n",
              "      <th>43</th>\n",
              "      <td>12-Й ТУР</td>\n",
              "      <td>2020-12-05</td>\n",
              "      <td>ФК Мариуполь</td>\n",
              "      <td>Динамо</td>\n",
              "      <td>1 : 2</td>\n",
              "    </tr>\n",
              "    <tr>\n",
              "      <th>44</th>\n",
              "      <td>13-Й ТУР</td>\n",
              "      <td>2020-12-12</td>\n",
              "      <td>Динамо</td>\n",
              "      <td>Колос</td>\n",
              "      <td>2 : 2</td>\n",
              "    </tr>\n",
              "    <tr>\n",
              "      <th>45</th>\n",
              "      <td>14-Й ТУР</td>\n",
              "      <td>2021-02-13</td>\n",
              "      <td>Динамо</td>\n",
              "      <td>Олимпик</td>\n",
              "      <td>3 : 1</td>\n",
              "    </tr>\n",
              "    <tr>\n",
              "      <th>46</th>\n",
              "      <td>15-Й ТУР</td>\n",
              "      <td>2021-02-21</td>\n",
              "      <td>Десна</td>\n",
              "      <td>Динамо</td>\n",
              "      <td>1 : 1</td>\n",
              "    </tr>\n",
              "    <tr>\n",
              "      <th>47</th>\n",
              "      <td>16-Й ТУР</td>\n",
              "      <td>2021-02-28</td>\n",
              "      <td>ФК Львов</td>\n",
              "      <td>Динамо</td>\n",
              "      <td>1 : 4</td>\n",
              "    </tr>\n",
              "    <tr>\n",
              "      <th>48</th>\n",
              "      <td>17-Й ТУР</td>\n",
              "      <td>2021-03-07</td>\n",
              "      <td>Динамо</td>\n",
              "      <td>ФК Минай</td>\n",
              "      <td>3 : 0</td>\n",
              "    </tr>\n",
              "    <tr>\n",
              "      <th>49</th>\n",
              "      <td>18-Й ТУР</td>\n",
              "      <td>2021-03-14</td>\n",
              "      <td>Заря</td>\n",
              "      <td>Динамо</td>\n",
              "      <td>0 : 2</td>\n",
              "    </tr>\n",
              "    <tr>\n",
              "      <th>50</th>\n",
              "      <td>19-Й ТУР</td>\n",
              "      <td>2021-03-21</td>\n",
              "      <td>Динамо</td>\n",
              "      <td>Рух</td>\n",
              "      <td>3 : 0</td>\n",
              "    </tr>\n",
              "    <tr>\n",
              "      <th>51</th>\n",
              "      <td>20-Й ТУР</td>\n",
              "      <td>2021-04-04</td>\n",
              "      <td>ФК Александрия</td>\n",
              "      <td>Динамо</td>\n",
              "      <td>1 : 2</td>\n",
              "    </tr>\n",
              "    <tr>\n",
              "      <th>52</th>\n",
              "      <td>21-Й ТУР</td>\n",
              "      <td>2021-04-10</td>\n",
              "      <td>Динамо</td>\n",
              "      <td>СК Днепр-1</td>\n",
              "      <td>2 : 0</td>\n",
              "    </tr>\n",
              "    <tr>\n",
              "      <th>53</th>\n",
              "      <td>22-Й ТУР</td>\n",
              "      <td>2021-04-17</td>\n",
              "      <td>Шахтер</td>\n",
              "      <td>Динамо</td>\n",
              "      <td>0 : 1</td>\n",
              "    </tr>\n",
              "    <tr>\n",
              "      <th>54</th>\n",
              "      <td>23-Й ТУР</td>\n",
              "      <td>2021-04-25</td>\n",
              "      <td>Динамо</td>\n",
              "      <td>Ингулец</td>\n",
              "      <td>5 : 0</td>\n",
              "    </tr>\n",
              "    <tr>\n",
              "      <th>55</th>\n",
              "      <td>24-Й ТУР</td>\n",
              "      <td>2021-05-01</td>\n",
              "      <td>Ворскла</td>\n",
              "      <td>Динамо</td>\n",
              "      <td>1 : 5</td>\n",
              "    </tr>\n",
              "    <tr>\n",
              "      <th>56</th>\n",
              "      <td>25-Й ТУР</td>\n",
              "      <td>2021-05-05</td>\n",
              "      <td>Динамо</td>\n",
              "      <td>ФК Мариуполь</td>\n",
              "      <td>0 : 0</td>\n",
              "    </tr>\n",
              "    <tr>\n",
              "      <th>57</th>\n",
              "      <td>26-Й ТУР</td>\n",
              "      <td>2021-05-09</td>\n",
              "      <td>Колос</td>\n",
              "      <td>Динамо</td>\n",
              "      <td>0 : 3</td>\n",
              "    </tr>\n",
              "  </tbody>\n",
              "</table>\n",
              "</div>"
            ],
            "text/plain": [
              "         Тур       Дата        Команда1        Команда2   Счет\n",
              "0    1-Й ТУР 2019-07-31         Карпаты          Динамо  0 : 2\n",
              "1    2-Й ТУР 2019-08-03        ФК Львов          Динамо  0 : 3\n",
              "2    3-Й ТУР 2019-08-10          Динамо          Шахтер  1 : 2\n",
              "3    5-Й ТУР 2019-08-24          Динамо         Олимпик  1 : 1\n",
              "4    6-Й ТУР 2019-09-01            Заря          Динамо  2 : 2\n",
              "5    7-Й ТУР 2019-09-15          Динамо           Десна  1 : 2\n",
              "6    8-Й ТУР 2019-09-22         Ворскла          Динамо  0 : 5\n",
              "7    4-Й ТУР 2019-09-25    ФК Мариуполь          Динамо  0 : 1\n",
              "8    9-Й ТУР 2019-09-29          Динамо      СК Днепр-1  2 : 0\n",
              "9   10-Й ТУР 2019-10-06           Колос          Динамо  0 : 4\n",
              "10  11-Й ТУР 2019-10-20          Динамо  ФК Александрия  1 : 0\n",
              "11  12-Й ТУР 2019-10-27          Динамо         Карпаты  1 : 1\n",
              "12  13-Й ТУР 2019-11-03          Динамо        ФК Львов  4 : 0\n",
              "13  14-Й ТУР 2019-11-10          Шахтер          Динамо  1 : 0\n",
              "14  15-Й ТУР 2019-11-24          Динамо    ФК Мариуполь  3 : 0\n",
              "15  16-Й ТУР 2019-12-01         Олимпик          Динамо  1 : 3\n",
              "16  17-Й ТУР 2019-12-08          Динамо            Заря  1 : 2\n",
              "17  18-Й ТУР 2019-12-15           Десна          Динамо  0 : 1\n",
              "18  19-Й ТУР 2020-02-22          Динамо         Ворскла  2 : 1\n",
              "19  20-Й ТУР 2020-02-28      СК Днепр-1          Динамо  3 : 1\n",
              "20  21-Й ТУР 2020-03-03          Динамо           Колос  2 : 0\n",
              "21  22-Й ТУР 2020-03-07  ФК Александрия          Динамо  1 : 3\n",
              "22  23-Й ТУР 2020-03-15          Динамо           Десна  1 : 1\n",
              "23  24-Й ТУР 2020-05-31          Шахтер          Динамо  3 : 1\n",
              "24  25-Й ТУР 2020-06-07          Динамо  ФК Александрия  5 : 1\n",
              "25  26-Й ТУР 2020-06-13            Заря          Динамо  1 : 3\n",
              "26  27-Й ТУР 2020-06-22          Динамо           Колос  2 : 1\n",
              "27  28-Й ТУР 2020-06-28           Десна          Динамо  3 : 2\n",
              "28  29-Й ТУР 2020-07-04          Динамо          Шахтер  2 : 3\n",
              "29  30-Й ТУР 2020-07-12  ФК Александрия          Динамо  2 : 2\n",
              "30  31-Й ТУР 2020-07-16          Динамо            Заря  3 : 1\n",
              "31  32-Й ТУР 2020-07-19           Колос          Динамо  2 : 0\n",
              "32   1-Й ТУР 2020-08-21         Олимпик          Динамо  1 : 4\n",
              "33   2-Й ТУР 2020-09-11          Динамо           Десна  0 : 0\n",
              "34   3-Й ТУР 2020-09-19          Динамо        ФК Львов  3 : 1\n",
              "35   4-Й ТУР 2020-09-26        ФК Минай          Динамо  0 : 4\n",
              "36   5-Й ТУР 2020-10-04          Динамо            Заря  1 : 1\n",
              "37   6-Й ТУР 2020-10-17             Рух          Динамо  0 : 2\n",
              "38   7-Й ТУР 2020-10-24          Динамо  ФК Александрия  1 : 0\n",
              "39   8-Й ТУР 2020-10-31      СК Днепр-1          Динамо  1 : 2\n",
              "40   9-Й ТУР 2020-11-08          Динамо          Шахтер  0 : 3\n",
              "41  10-Й ТУР 2020-11-21         Ингулец          Динамо  0 : 2\n",
              "42  11-Й ТУР 2020-11-28          Динамо         Ворскла  2 : 0\n",
              "43  12-Й ТУР 2020-12-05    ФК Мариуполь          Динамо  1 : 2\n",
              "44  13-Й ТУР 2020-12-12          Динамо           Колос  2 : 2\n",
              "45  14-Й ТУР 2021-02-13          Динамо         Олимпик  3 : 1\n",
              "46  15-Й ТУР 2021-02-21           Десна          Динамо  1 : 1\n",
              "47  16-Й ТУР 2021-02-28        ФК Львов          Динамо  1 : 4\n",
              "48  17-Й ТУР 2021-03-07          Динамо        ФК Минай  3 : 0\n",
              "49  18-Й ТУР 2021-03-14            Заря          Динамо  0 : 2\n",
              "50  19-Й ТУР 2021-03-21          Динамо             Рух  3 : 0\n",
              "51  20-Й ТУР 2021-04-04  ФК Александрия          Динамо  1 : 2\n",
              "52  21-Й ТУР 2021-04-10          Динамо      СК Днепр-1  2 : 0\n",
              "53  22-Й ТУР 2021-04-17          Шахтер          Динамо  0 : 1\n",
              "54  23-Й ТУР 2021-04-25          Динамо         Ингулец  5 : 0\n",
              "55  24-Й ТУР 2021-05-01         Ворскла          Динамо  1 : 5\n",
              "56  25-Й ТУР 2021-05-05          Динамо    ФК Мариуполь  0 : 0\n",
              "57  26-Й ТУР 2021-05-09           Колос          Динамо  0 : 3"
            ]
          },
          "metadata": {},
          "execution_count": 10
        }
      ]
    },
    {
      "cell_type": "markdown",
      "metadata": {
        "id": "5NIQef5aVir5"
      },
      "source": [
        "# Feature Engineering"
      ]
    },
    {
      "cell_type": "code",
      "metadata": {
        "colab": {
          "base_uri": "https://localhost:8080/",
          "height": 204
        },
        "id": "3p7GXz-ucJAk",
        "outputId": "a2d06611-7d0e-4d69-c048-23b8e7fa95bd"
      },
      "source": [
        "# Добавляю тренера. \n",
        "# Хацкевич 2-06-2017 - 14-08-2019\n",
        "# Михайличенко 15-08-2019 - 20-07-2020\n",
        "# Луческу с 23-07-2020\n",
        "\n",
        "df['Тренер'] = df['Дата'].apply(lambda x: 'Луческу' if x in pd.date_range(start=\"2020-07-23\",end=\"2021-12-31\") else ('Михайличенко' if x in pd.date_range(start=\"2019-08-15\",end=\"2020-07-20\") else 'Хацкевич' ))\n",
        "df.head()"
      ],
      "execution_count": null,
      "outputs": [
        {
          "output_type": "execute_result",
          "data": {
            "text/html": [
              "<div>\n",
              "<style scoped>\n",
              "    .dataframe tbody tr th:only-of-type {\n",
              "        vertical-align: middle;\n",
              "    }\n",
              "\n",
              "    .dataframe tbody tr th {\n",
              "        vertical-align: top;\n",
              "    }\n",
              "\n",
              "    .dataframe thead th {\n",
              "        text-align: right;\n",
              "    }\n",
              "</style>\n",
              "<table border=\"1\" class=\"dataframe\">\n",
              "  <thead>\n",
              "    <tr style=\"text-align: right;\">\n",
              "      <th></th>\n",
              "      <th>Тур</th>\n",
              "      <th>Дата</th>\n",
              "      <th>Команда1</th>\n",
              "      <th>Команда2</th>\n",
              "      <th>Счет</th>\n",
              "      <th>Тренер</th>\n",
              "    </tr>\n",
              "  </thead>\n",
              "  <tbody>\n",
              "    <tr>\n",
              "      <th>0</th>\n",
              "      <td>1-Й ТУР</td>\n",
              "      <td>2019-07-31</td>\n",
              "      <td>Карпаты</td>\n",
              "      <td>Динамо</td>\n",
              "      <td>0 : 2</td>\n",
              "      <td>Хацкевич</td>\n",
              "    </tr>\n",
              "    <tr>\n",
              "      <th>1</th>\n",
              "      <td>2-Й ТУР</td>\n",
              "      <td>2019-08-03</td>\n",
              "      <td>ФК Львов</td>\n",
              "      <td>Динамо</td>\n",
              "      <td>0 : 3</td>\n",
              "      <td>Хацкевич</td>\n",
              "    </tr>\n",
              "    <tr>\n",
              "      <th>2</th>\n",
              "      <td>3-Й ТУР</td>\n",
              "      <td>2019-08-10</td>\n",
              "      <td>Динамо</td>\n",
              "      <td>Шахтер</td>\n",
              "      <td>1 : 2</td>\n",
              "      <td>Хацкевич</td>\n",
              "    </tr>\n",
              "    <tr>\n",
              "      <th>3</th>\n",
              "      <td>5-Й ТУР</td>\n",
              "      <td>2019-08-24</td>\n",
              "      <td>Динамо</td>\n",
              "      <td>Олимпик</td>\n",
              "      <td>1 : 1</td>\n",
              "      <td>Михайличенко</td>\n",
              "    </tr>\n",
              "    <tr>\n",
              "      <th>4</th>\n",
              "      <td>6-Й ТУР</td>\n",
              "      <td>2019-09-01</td>\n",
              "      <td>Заря</td>\n",
              "      <td>Динамо</td>\n",
              "      <td>2 : 2</td>\n",
              "      <td>Михайличенко</td>\n",
              "    </tr>\n",
              "  </tbody>\n",
              "</table>\n",
              "</div>"
            ],
            "text/plain": [
              "       Тур       Дата  Команда1 Команда2   Счет        Тренер\n",
              "0  1-Й ТУР 2019-07-31   Карпаты   Динамо  0 : 2      Хацкевич\n",
              "1  2-Й ТУР 2019-08-03  ФК Львов   Динамо  0 : 3      Хацкевич\n",
              "2  3-Й ТУР 2019-08-10    Динамо   Шахтер  1 : 2      Хацкевич\n",
              "3  5-Й ТУР 2019-08-24    Динамо  Олимпик  1 : 1  Михайличенко\n",
              "4  6-Й ТУР 2019-09-01      Заря   Динамо  2 : 2  Михайличенко"
            ]
          },
          "metadata": {},
          "execution_count": 11
        }
      ]
    },
    {
      "cell_type": "code",
      "metadata": {
        "id": "MMIkDTrWvzUQ"
      },
      "source": [
        "# Выбираем данные только по тренерам Михайличенко и Луческу\n",
        "\n",
        "df = df[(df['Тренер'] == 'Михайличенко') | (df['Тренер'] == 'Луческу')]"
      ],
      "execution_count": null,
      "outputs": []
    },
    {
      "cell_type": "code",
      "metadata": {
        "colab": {
          "base_uri": "https://localhost:8080/",
          "height": 464
        },
        "id": "JkS-XFGKgYXj",
        "outputId": "e8ea3bf4-b0f3-4763-ef8c-219e4ce10cef"
      },
      "source": [
        "# Добавляю бинарный признак победы/непобеды Динамо (1/0)\n",
        "\n",
        "def victory_d(k1,s):\n",
        "  s = str(s)\n",
        "  v = int(s[0]) - int(s[4])\n",
        "  if k1 == 'Динамо':\n",
        "    if v > 0:\n",
        "      return 1\n",
        "    else:\n",
        "      return 0\n",
        "  else:\n",
        "    if v < 0:\n",
        "      return 1\n",
        "    else:\n",
        "      return 0\n",
        "\n",
        "df['Победа'] = df.apply(lambda x: victory_d(x['Команда1'], x['Счет']), axis =  1)\n",
        "df.head(10)"
      ],
      "execution_count": null,
      "outputs": [
        {
          "output_type": "stream",
          "name": "stderr",
          "text": [
            "/usr/local/lib/python3.7/dist-packages/ipykernel_launcher.py:17: SettingWithCopyWarning: \n",
            "A value is trying to be set on a copy of a slice from a DataFrame.\n",
            "Try using .loc[row_indexer,col_indexer] = value instead\n",
            "\n",
            "See the caveats in the documentation: https://pandas.pydata.org/pandas-docs/stable/user_guide/indexing.html#returning-a-view-versus-a-copy\n"
          ]
        },
        {
          "output_type": "execute_result",
          "data": {
            "text/html": [
              "<div>\n",
              "<style scoped>\n",
              "    .dataframe tbody tr th:only-of-type {\n",
              "        vertical-align: middle;\n",
              "    }\n",
              "\n",
              "    .dataframe tbody tr th {\n",
              "        vertical-align: top;\n",
              "    }\n",
              "\n",
              "    .dataframe thead th {\n",
              "        text-align: right;\n",
              "    }\n",
              "</style>\n",
              "<table border=\"1\" class=\"dataframe\">\n",
              "  <thead>\n",
              "    <tr style=\"text-align: right;\">\n",
              "      <th></th>\n",
              "      <th>Тур</th>\n",
              "      <th>Дата</th>\n",
              "      <th>Команда1</th>\n",
              "      <th>Команда2</th>\n",
              "      <th>Счет</th>\n",
              "      <th>Тренер</th>\n",
              "      <th>Победа</th>\n",
              "    </tr>\n",
              "  </thead>\n",
              "  <tbody>\n",
              "    <tr>\n",
              "      <th>3</th>\n",
              "      <td>5-Й ТУР</td>\n",
              "      <td>2019-08-24</td>\n",
              "      <td>Динамо</td>\n",
              "      <td>Олимпик</td>\n",
              "      <td>1 : 1</td>\n",
              "      <td>Михайличенко</td>\n",
              "      <td>0</td>\n",
              "    </tr>\n",
              "    <tr>\n",
              "      <th>4</th>\n",
              "      <td>6-Й ТУР</td>\n",
              "      <td>2019-09-01</td>\n",
              "      <td>Заря</td>\n",
              "      <td>Динамо</td>\n",
              "      <td>2 : 2</td>\n",
              "      <td>Михайличенко</td>\n",
              "      <td>0</td>\n",
              "    </tr>\n",
              "    <tr>\n",
              "      <th>5</th>\n",
              "      <td>7-Й ТУР</td>\n",
              "      <td>2019-09-15</td>\n",
              "      <td>Динамо</td>\n",
              "      <td>Десна</td>\n",
              "      <td>1 : 2</td>\n",
              "      <td>Михайличенко</td>\n",
              "      <td>0</td>\n",
              "    </tr>\n",
              "    <tr>\n",
              "      <th>6</th>\n",
              "      <td>8-Й ТУР</td>\n",
              "      <td>2019-09-22</td>\n",
              "      <td>Ворскла</td>\n",
              "      <td>Динамо</td>\n",
              "      <td>0 : 5</td>\n",
              "      <td>Михайличенко</td>\n",
              "      <td>1</td>\n",
              "    </tr>\n",
              "    <tr>\n",
              "      <th>7</th>\n",
              "      <td>4-Й ТУР</td>\n",
              "      <td>2019-09-25</td>\n",
              "      <td>ФК Мариуполь</td>\n",
              "      <td>Динамо</td>\n",
              "      <td>0 : 1</td>\n",
              "      <td>Михайличенко</td>\n",
              "      <td>1</td>\n",
              "    </tr>\n",
              "    <tr>\n",
              "      <th>8</th>\n",
              "      <td>9-Й ТУР</td>\n",
              "      <td>2019-09-29</td>\n",
              "      <td>Динамо</td>\n",
              "      <td>СК Днепр-1</td>\n",
              "      <td>2 : 0</td>\n",
              "      <td>Михайличенко</td>\n",
              "      <td>1</td>\n",
              "    </tr>\n",
              "    <tr>\n",
              "      <th>9</th>\n",
              "      <td>10-Й ТУР</td>\n",
              "      <td>2019-10-06</td>\n",
              "      <td>Колос</td>\n",
              "      <td>Динамо</td>\n",
              "      <td>0 : 4</td>\n",
              "      <td>Михайличенко</td>\n",
              "      <td>1</td>\n",
              "    </tr>\n",
              "    <tr>\n",
              "      <th>10</th>\n",
              "      <td>11-Й ТУР</td>\n",
              "      <td>2019-10-20</td>\n",
              "      <td>Динамо</td>\n",
              "      <td>ФК Александрия</td>\n",
              "      <td>1 : 0</td>\n",
              "      <td>Михайличенко</td>\n",
              "      <td>1</td>\n",
              "    </tr>\n",
              "    <tr>\n",
              "      <th>11</th>\n",
              "      <td>12-Й ТУР</td>\n",
              "      <td>2019-10-27</td>\n",
              "      <td>Динамо</td>\n",
              "      <td>Карпаты</td>\n",
              "      <td>1 : 1</td>\n",
              "      <td>Михайличенко</td>\n",
              "      <td>0</td>\n",
              "    </tr>\n",
              "    <tr>\n",
              "      <th>12</th>\n",
              "      <td>13-Й ТУР</td>\n",
              "      <td>2019-11-03</td>\n",
              "      <td>Динамо</td>\n",
              "      <td>ФК Львов</td>\n",
              "      <td>4 : 0</td>\n",
              "      <td>Михайличенко</td>\n",
              "      <td>1</td>\n",
              "    </tr>\n",
              "  </tbody>\n",
              "</table>\n",
              "</div>"
            ],
            "text/plain": [
              "         Тур       Дата      Команда1  ...   Счет        Тренер Победа\n",
              "3    5-Й ТУР 2019-08-24        Динамо  ...  1 : 1  Михайличенко      0\n",
              "4    6-Й ТУР 2019-09-01          Заря  ...  2 : 2  Михайличенко      0\n",
              "5    7-Й ТУР 2019-09-15        Динамо  ...  1 : 2  Михайличенко      0\n",
              "6    8-Й ТУР 2019-09-22       Ворскла  ...  0 : 5  Михайличенко      1\n",
              "7    4-Й ТУР 2019-09-25  ФК Мариуполь  ...  0 : 1  Михайличенко      1\n",
              "8    9-Й ТУР 2019-09-29        Динамо  ...  2 : 0  Михайличенко      1\n",
              "9   10-Й ТУР 2019-10-06         Колос  ...  0 : 4  Михайличенко      1\n",
              "10  11-Й ТУР 2019-10-20        Динамо  ...  1 : 0  Михайличенко      1\n",
              "11  12-Й ТУР 2019-10-27        Динамо  ...  1 : 1  Михайличенко      0\n",
              "12  13-Й ТУР 2019-11-03        Динамо  ...  4 : 0  Михайличенко      1\n",
              "\n",
              "[10 rows x 7 columns]"
            ]
          },
          "metadata": {},
          "execution_count": 13
        }
      ]
    },
    {
      "cell_type": "code",
      "metadata": {
        "id": "G4Ybuf-_lRjK",
        "colab": {
          "base_uri": "https://localhost:8080/"
        },
        "outputId": "91589b5c-0d58-4053-c57b-6adad4d08393"
      },
      "source": [
        "df[df['Тренер']=='Луческу']['Победа'].value_counts()"
      ],
      "execution_count": null,
      "outputs": [
        {
          "output_type": "execute_result",
          "data": {
            "text/plain": [
              "1    20\n",
              "0     6\n",
              "Name: Победа, dtype: int64"
            ]
          },
          "metadata": {},
          "execution_count": 14
        }
      ]
    },
    {
      "cell_type": "code",
      "metadata": {
        "colab": {
          "base_uri": "https://localhost:8080/"
        },
        "id": "ZnmGQNOOrwgP",
        "outputId": "91018b38-8854-48f4-893b-23d59f0c5a0f"
      },
      "source": [
        "df[df['Тренер']=='Михайличенко']['Победа'].value_counts()"
      ],
      "execution_count": null,
      "outputs": [
        {
          "output_type": "execute_result",
          "data": {
            "text/plain": [
              "1    16\n",
              "0    13\n",
              "Name: Победа, dtype: int64"
            ]
          },
          "metadata": {},
          "execution_count": 15
        }
      ]
    },
    {
      "cell_type": "code",
      "metadata": {
        "colab": {
          "base_uri": "https://localhost:8080/",
          "height": 326
        },
        "id": "So8lcDGPtHgX",
        "outputId": "38b2a03e-6451-4b75-d981-86f6d9883624"
      },
      "source": [
        "# Добавляю матчи\n",
        "\n",
        "df['Матч'] = df['Команда1'] + \" \" + df['Команда2']\n",
        "df.head()"
      ],
      "execution_count": null,
      "outputs": [
        {
          "output_type": "stream",
          "name": "stderr",
          "text": [
            "/usr/local/lib/python3.7/dist-packages/ipykernel_launcher.py:3: SettingWithCopyWarning: \n",
            "A value is trying to be set on a copy of a slice from a DataFrame.\n",
            "Try using .loc[row_indexer,col_indexer] = value instead\n",
            "\n",
            "See the caveats in the documentation: https://pandas.pydata.org/pandas-docs/stable/user_guide/indexing.html#returning-a-view-versus-a-copy\n",
            "  This is separate from the ipykernel package so we can avoid doing imports until\n"
          ]
        },
        {
          "output_type": "execute_result",
          "data": {
            "text/html": [
              "<div>\n",
              "<style scoped>\n",
              "    .dataframe tbody tr th:only-of-type {\n",
              "        vertical-align: middle;\n",
              "    }\n",
              "\n",
              "    .dataframe tbody tr th {\n",
              "        vertical-align: top;\n",
              "    }\n",
              "\n",
              "    .dataframe thead th {\n",
              "        text-align: right;\n",
              "    }\n",
              "</style>\n",
              "<table border=\"1\" class=\"dataframe\">\n",
              "  <thead>\n",
              "    <tr style=\"text-align: right;\">\n",
              "      <th></th>\n",
              "      <th>Тур</th>\n",
              "      <th>Дата</th>\n",
              "      <th>Команда1</th>\n",
              "      <th>Команда2</th>\n",
              "      <th>Счет</th>\n",
              "      <th>Тренер</th>\n",
              "      <th>Победа</th>\n",
              "      <th>Матч</th>\n",
              "    </tr>\n",
              "  </thead>\n",
              "  <tbody>\n",
              "    <tr>\n",
              "      <th>3</th>\n",
              "      <td>5-Й ТУР</td>\n",
              "      <td>2019-08-24</td>\n",
              "      <td>Динамо</td>\n",
              "      <td>Олимпик</td>\n",
              "      <td>1 : 1</td>\n",
              "      <td>Михайличенко</td>\n",
              "      <td>0</td>\n",
              "      <td>Динамо Олимпик</td>\n",
              "    </tr>\n",
              "    <tr>\n",
              "      <th>4</th>\n",
              "      <td>6-Й ТУР</td>\n",
              "      <td>2019-09-01</td>\n",
              "      <td>Заря</td>\n",
              "      <td>Динамо</td>\n",
              "      <td>2 : 2</td>\n",
              "      <td>Михайличенко</td>\n",
              "      <td>0</td>\n",
              "      <td>Заря Динамо</td>\n",
              "    </tr>\n",
              "    <tr>\n",
              "      <th>5</th>\n",
              "      <td>7-Й ТУР</td>\n",
              "      <td>2019-09-15</td>\n",
              "      <td>Динамо</td>\n",
              "      <td>Десна</td>\n",
              "      <td>1 : 2</td>\n",
              "      <td>Михайличенко</td>\n",
              "      <td>0</td>\n",
              "      <td>Динамо Десна</td>\n",
              "    </tr>\n",
              "    <tr>\n",
              "      <th>6</th>\n",
              "      <td>8-Й ТУР</td>\n",
              "      <td>2019-09-22</td>\n",
              "      <td>Ворскла</td>\n",
              "      <td>Динамо</td>\n",
              "      <td>0 : 5</td>\n",
              "      <td>Михайличенко</td>\n",
              "      <td>1</td>\n",
              "      <td>Ворскла Динамо</td>\n",
              "    </tr>\n",
              "    <tr>\n",
              "      <th>7</th>\n",
              "      <td>4-Й ТУР</td>\n",
              "      <td>2019-09-25</td>\n",
              "      <td>ФК Мариуполь</td>\n",
              "      <td>Динамо</td>\n",
              "      <td>0 : 1</td>\n",
              "      <td>Михайличенко</td>\n",
              "      <td>1</td>\n",
              "      <td>ФК Мариуполь Динамо</td>\n",
              "    </tr>\n",
              "  </tbody>\n",
              "</table>\n",
              "</div>"
            ],
            "text/plain": [
              "       Тур       Дата      Команда1  ...        Тренер Победа                 Матч\n",
              "3  5-Й ТУР 2019-08-24        Динамо  ...  Михайличенко      0       Динамо Олимпик\n",
              "4  6-Й ТУР 2019-09-01          Заря  ...  Михайличенко      0          Заря Динамо\n",
              "5  7-Й ТУР 2019-09-15        Динамо  ...  Михайличенко      0         Динамо Десна\n",
              "6  8-Й ТУР 2019-09-22       Ворскла  ...  Михайличенко      1       Ворскла Динамо\n",
              "7  4-Й ТУР 2019-09-25  ФК Мариуполь  ...  Михайличенко      1  ФК Мариуполь Динамо\n",
              "\n",
              "[5 rows x 8 columns]"
            ]
          },
          "metadata": {},
          "execution_count": 16
        }
      ]
    },
    {
      "cell_type": "code",
      "metadata": {
        "colab": {
          "base_uri": "https://localhost:8080/",
          "height": 917
        },
        "id": "-9kLOL2ZsF7f",
        "outputId": "35530449-1ab9-411e-bcbf-543c7a739949"
      },
      "source": [
        "# Смотрим на статистику матчей. #Если тренер сыграл несколько одинаковых матчей, то берем лучший результат.\n",
        "\n",
        "df_l_m = pd.pivot_table(df, values='Победа', index='Матч', columns='Тренер', aggfunc='max')\n",
        "df_l_m"
      ],
      "execution_count": null,
      "outputs": [
        {
          "output_type": "execute_result",
          "data": {
            "text/html": [
              "<div>\n",
              "<style scoped>\n",
              "    .dataframe tbody tr th:only-of-type {\n",
              "        vertical-align: middle;\n",
              "    }\n",
              "\n",
              "    .dataframe tbody tr th {\n",
              "        vertical-align: top;\n",
              "    }\n",
              "\n",
              "    .dataframe thead th {\n",
              "        text-align: right;\n",
              "    }\n",
              "</style>\n",
              "<table border=\"1\" class=\"dataframe\">\n",
              "  <thead>\n",
              "    <tr style=\"text-align: right;\">\n",
              "      <th>Тренер</th>\n",
              "      <th>Луческу</th>\n",
              "      <th>Михайличенко</th>\n",
              "    </tr>\n",
              "    <tr>\n",
              "      <th>Матч</th>\n",
              "      <th></th>\n",
              "      <th></th>\n",
              "    </tr>\n",
              "  </thead>\n",
              "  <tbody>\n",
              "    <tr>\n",
              "      <th>Ворскла Динамо</th>\n",
              "      <td>1.0</td>\n",
              "      <td>1.0</td>\n",
              "    </tr>\n",
              "    <tr>\n",
              "      <th>Десна Динамо</th>\n",
              "      <td>0.0</td>\n",
              "      <td>1.0</td>\n",
              "    </tr>\n",
              "    <tr>\n",
              "      <th>Динамо Ворскла</th>\n",
              "      <td>1.0</td>\n",
              "      <td>1.0</td>\n",
              "    </tr>\n",
              "    <tr>\n",
              "      <th>Динамо Десна</th>\n",
              "      <td>0.0</td>\n",
              "      <td>0.0</td>\n",
              "    </tr>\n",
              "    <tr>\n",
              "      <th>Динамо Заря</th>\n",
              "      <td>0.0</td>\n",
              "      <td>1.0</td>\n",
              "    </tr>\n",
              "    <tr>\n",
              "      <th>Динамо Ингулец</th>\n",
              "      <td>1.0</td>\n",
              "      <td>NaN</td>\n",
              "    </tr>\n",
              "    <tr>\n",
              "      <th>Динамо Карпаты</th>\n",
              "      <td>NaN</td>\n",
              "      <td>0.0</td>\n",
              "    </tr>\n",
              "    <tr>\n",
              "      <th>Динамо Колос</th>\n",
              "      <td>0.0</td>\n",
              "      <td>1.0</td>\n",
              "    </tr>\n",
              "    <tr>\n",
              "      <th>Динамо Олимпик</th>\n",
              "      <td>1.0</td>\n",
              "      <td>0.0</td>\n",
              "    </tr>\n",
              "    <tr>\n",
              "      <th>Динамо Рух</th>\n",
              "      <td>1.0</td>\n",
              "      <td>NaN</td>\n",
              "    </tr>\n",
              "    <tr>\n",
              "      <th>Динамо СК Днепр-1</th>\n",
              "      <td>1.0</td>\n",
              "      <td>1.0</td>\n",
              "    </tr>\n",
              "    <tr>\n",
              "      <th>Динамо ФК Александрия</th>\n",
              "      <td>1.0</td>\n",
              "      <td>1.0</td>\n",
              "    </tr>\n",
              "    <tr>\n",
              "      <th>Динамо ФК Львов</th>\n",
              "      <td>1.0</td>\n",
              "      <td>1.0</td>\n",
              "    </tr>\n",
              "    <tr>\n",
              "      <th>Динамо ФК Мариуполь</th>\n",
              "      <td>0.0</td>\n",
              "      <td>1.0</td>\n",
              "    </tr>\n",
              "    <tr>\n",
              "      <th>Динамо ФК Минай</th>\n",
              "      <td>1.0</td>\n",
              "      <td>NaN</td>\n",
              "    </tr>\n",
              "    <tr>\n",
              "      <th>Динамо Шахтер</th>\n",
              "      <td>0.0</td>\n",
              "      <td>0.0</td>\n",
              "    </tr>\n",
              "    <tr>\n",
              "      <th>Заря Динамо</th>\n",
              "      <td>1.0</td>\n",
              "      <td>1.0</td>\n",
              "    </tr>\n",
              "    <tr>\n",
              "      <th>Ингулец Динамо</th>\n",
              "      <td>1.0</td>\n",
              "      <td>NaN</td>\n",
              "    </tr>\n",
              "    <tr>\n",
              "      <th>Колос Динамо</th>\n",
              "      <td>1.0</td>\n",
              "      <td>1.0</td>\n",
              "    </tr>\n",
              "    <tr>\n",
              "      <th>Олимпик Динамо</th>\n",
              "      <td>1.0</td>\n",
              "      <td>1.0</td>\n",
              "    </tr>\n",
              "    <tr>\n",
              "      <th>Рух Динамо</th>\n",
              "      <td>1.0</td>\n",
              "      <td>NaN</td>\n",
              "    </tr>\n",
              "    <tr>\n",
              "      <th>СК Днепр-1 Динамо</th>\n",
              "      <td>1.0</td>\n",
              "      <td>0.0</td>\n",
              "    </tr>\n",
              "    <tr>\n",
              "      <th>ФК Александрия Динамо</th>\n",
              "      <td>1.0</td>\n",
              "      <td>1.0</td>\n",
              "    </tr>\n",
              "    <tr>\n",
              "      <th>ФК Львов Динамо</th>\n",
              "      <td>1.0</td>\n",
              "      <td>NaN</td>\n",
              "    </tr>\n",
              "    <tr>\n",
              "      <th>ФК Мариуполь Динамо</th>\n",
              "      <td>1.0</td>\n",
              "      <td>1.0</td>\n",
              "    </tr>\n",
              "    <tr>\n",
              "      <th>ФК Минай Динамо</th>\n",
              "      <td>1.0</td>\n",
              "      <td>NaN</td>\n",
              "    </tr>\n",
              "    <tr>\n",
              "      <th>Шахтер Динамо</th>\n",
              "      <td>1.0</td>\n",
              "      <td>0.0</td>\n",
              "    </tr>\n",
              "  </tbody>\n",
              "</table>\n",
              "</div>"
            ],
            "text/plain": [
              "Тренер                 Луческу  Михайличенко\n",
              "Матч                                        \n",
              "Ворскла Динамо             1.0           1.0\n",
              "Десна Динамо               0.0           1.0\n",
              "Динамо Ворскла             1.0           1.0\n",
              "Динамо Десна               0.0           0.0\n",
              "Динамо Заря                0.0           1.0\n",
              "Динамо Ингулец             1.0           NaN\n",
              "Динамо Карпаты             NaN           0.0\n",
              "Динамо Колос               0.0           1.0\n",
              "Динамо Олимпик             1.0           0.0\n",
              "Динамо Рух                 1.0           NaN\n",
              "Динамо СК Днепр-1          1.0           1.0\n",
              "Динамо ФК Александрия      1.0           1.0\n",
              "Динамо ФК Львов            1.0           1.0\n",
              "Динамо ФК Мариуполь        0.0           1.0\n",
              "Динамо ФК Минай            1.0           NaN\n",
              "Динамо Шахтер              0.0           0.0\n",
              "Заря Динамо                1.0           1.0\n",
              "Ингулец Динамо             1.0           NaN\n",
              "Колос Динамо               1.0           1.0\n",
              "Олимпик Динамо             1.0           1.0\n",
              "Рух Динамо                 1.0           NaN\n",
              "СК Днепр-1 Динамо          1.0           0.0\n",
              "ФК Александрия Динамо      1.0           1.0\n",
              "ФК Львов Динамо            1.0           NaN\n",
              "ФК Мариуполь Динамо        1.0           1.0\n",
              "ФК Минай Динамо            1.0           NaN\n",
              "Шахтер Динамо              1.0           0.0"
            ]
          },
          "metadata": {},
          "execution_count": 17
        }
      ]
    },
    {
      "cell_type": "code",
      "metadata": {
        "colab": {
          "base_uri": "https://localhost:8080/"
        },
        "id": "gCH2N6-evcp_",
        "outputId": "79b1af2a-1004-4183-969e-d00c64209fd3"
      },
      "source": [
        "df_l_m.info()"
      ],
      "execution_count": null,
      "outputs": [
        {
          "output_type": "stream",
          "name": "stdout",
          "text": [
            "<class 'pandas.core.frame.DataFrame'>\n",
            "Index: 27 entries, Ворскла Динамо to Шахтер Динамо\n",
            "Data columns (total 2 columns):\n",
            " #   Column        Non-Null Count  Dtype  \n",
            "---  ------        --------------  -----  \n",
            " 0   Луческу       26 non-null     float64\n",
            " 1   Михайличенко  20 non-null     float64\n",
            "dtypes: float64(2)\n",
            "memory usage: 648.0+ bytes\n"
          ]
        }
      ]
    },
    {
      "cell_type": "code",
      "metadata": {
        "colab": {
          "base_uri": "https://localhost:8080/",
          "height": 669
        },
        "id": "pOHPGCIayVcs",
        "outputId": "fb94d43b-d996-4f8b-b717-0c2d4a825247"
      },
      "source": [
        "# оставляем только те матчи, которые были и у Луческу и у Михайличенко\n",
        "df_l_m.dropna(inplace=True)\n",
        "df_l_m"
      ],
      "execution_count": null,
      "outputs": [
        {
          "output_type": "execute_result",
          "data": {
            "text/html": [
              "<div>\n",
              "<style scoped>\n",
              "    .dataframe tbody tr th:only-of-type {\n",
              "        vertical-align: middle;\n",
              "    }\n",
              "\n",
              "    .dataframe tbody tr th {\n",
              "        vertical-align: top;\n",
              "    }\n",
              "\n",
              "    .dataframe thead th {\n",
              "        text-align: right;\n",
              "    }\n",
              "</style>\n",
              "<table border=\"1\" class=\"dataframe\">\n",
              "  <thead>\n",
              "    <tr style=\"text-align: right;\">\n",
              "      <th>Тренер</th>\n",
              "      <th>Луческу</th>\n",
              "      <th>Михайличенко</th>\n",
              "    </tr>\n",
              "    <tr>\n",
              "      <th>Матч</th>\n",
              "      <th></th>\n",
              "      <th></th>\n",
              "    </tr>\n",
              "  </thead>\n",
              "  <tbody>\n",
              "    <tr>\n",
              "      <th>Ворскла Динамо</th>\n",
              "      <td>1.0</td>\n",
              "      <td>1.0</td>\n",
              "    </tr>\n",
              "    <tr>\n",
              "      <th>Десна Динамо</th>\n",
              "      <td>0.0</td>\n",
              "      <td>1.0</td>\n",
              "    </tr>\n",
              "    <tr>\n",
              "      <th>Динамо Ворскла</th>\n",
              "      <td>1.0</td>\n",
              "      <td>1.0</td>\n",
              "    </tr>\n",
              "    <tr>\n",
              "      <th>Динамо Десна</th>\n",
              "      <td>0.0</td>\n",
              "      <td>0.0</td>\n",
              "    </tr>\n",
              "    <tr>\n",
              "      <th>Динамо Заря</th>\n",
              "      <td>0.0</td>\n",
              "      <td>1.0</td>\n",
              "    </tr>\n",
              "    <tr>\n",
              "      <th>Динамо Колос</th>\n",
              "      <td>0.0</td>\n",
              "      <td>1.0</td>\n",
              "    </tr>\n",
              "    <tr>\n",
              "      <th>Динамо Олимпик</th>\n",
              "      <td>1.0</td>\n",
              "      <td>0.0</td>\n",
              "    </tr>\n",
              "    <tr>\n",
              "      <th>Динамо СК Днепр-1</th>\n",
              "      <td>1.0</td>\n",
              "      <td>1.0</td>\n",
              "    </tr>\n",
              "    <tr>\n",
              "      <th>Динамо ФК Александрия</th>\n",
              "      <td>1.0</td>\n",
              "      <td>1.0</td>\n",
              "    </tr>\n",
              "    <tr>\n",
              "      <th>Динамо ФК Львов</th>\n",
              "      <td>1.0</td>\n",
              "      <td>1.0</td>\n",
              "    </tr>\n",
              "    <tr>\n",
              "      <th>Динамо ФК Мариуполь</th>\n",
              "      <td>0.0</td>\n",
              "      <td>1.0</td>\n",
              "    </tr>\n",
              "    <tr>\n",
              "      <th>Динамо Шахтер</th>\n",
              "      <td>0.0</td>\n",
              "      <td>0.0</td>\n",
              "    </tr>\n",
              "    <tr>\n",
              "      <th>Заря Динамо</th>\n",
              "      <td>1.0</td>\n",
              "      <td>1.0</td>\n",
              "    </tr>\n",
              "    <tr>\n",
              "      <th>Колос Динамо</th>\n",
              "      <td>1.0</td>\n",
              "      <td>1.0</td>\n",
              "    </tr>\n",
              "    <tr>\n",
              "      <th>Олимпик Динамо</th>\n",
              "      <td>1.0</td>\n",
              "      <td>1.0</td>\n",
              "    </tr>\n",
              "    <tr>\n",
              "      <th>СК Днепр-1 Динамо</th>\n",
              "      <td>1.0</td>\n",
              "      <td>0.0</td>\n",
              "    </tr>\n",
              "    <tr>\n",
              "      <th>ФК Александрия Динамо</th>\n",
              "      <td>1.0</td>\n",
              "      <td>1.0</td>\n",
              "    </tr>\n",
              "    <tr>\n",
              "      <th>ФК Мариуполь Динамо</th>\n",
              "      <td>1.0</td>\n",
              "      <td>1.0</td>\n",
              "    </tr>\n",
              "    <tr>\n",
              "      <th>Шахтер Динамо</th>\n",
              "      <td>1.0</td>\n",
              "      <td>0.0</td>\n",
              "    </tr>\n",
              "  </tbody>\n",
              "</table>\n",
              "</div>"
            ],
            "text/plain": [
              "Тренер                 Луческу  Михайличенко\n",
              "Матч                                        \n",
              "Ворскла Динамо             1.0           1.0\n",
              "Десна Динамо               0.0           1.0\n",
              "Динамо Ворскла             1.0           1.0\n",
              "Динамо Десна               0.0           0.0\n",
              "Динамо Заря                0.0           1.0\n",
              "Динамо Колос               0.0           1.0\n",
              "Динамо Олимпик             1.0           0.0\n",
              "Динамо СК Днепр-1          1.0           1.0\n",
              "Динамо ФК Александрия      1.0           1.0\n",
              "Динамо ФК Львов            1.0           1.0\n",
              "Динамо ФК Мариуполь        0.0           1.0\n",
              "Динамо Шахтер              0.0           0.0\n",
              "Заря Динамо                1.0           1.0\n",
              "Колос Динамо               1.0           1.0\n",
              "Олимпик Динамо             1.0           1.0\n",
              "СК Днепр-1 Динамо          1.0           0.0\n",
              "ФК Александрия Динамо      1.0           1.0\n",
              "ФК Мариуполь Динамо        1.0           1.0\n",
              "Шахтер Динамо              1.0           0.0"
            ]
          },
          "metadata": {},
          "execution_count": 19
        }
      ]
    },
    {
      "cell_type": "code",
      "metadata": {
        "colab": {
          "base_uri": "https://localhost:8080/"
        },
        "id": "_lQaJoM5yoMU",
        "outputId": "c1e1a68a-a13b-4e21-b9eb-fcaa681d891e"
      },
      "source": [
        "df_l_m.info()"
      ],
      "execution_count": null,
      "outputs": [
        {
          "output_type": "stream",
          "name": "stdout",
          "text": [
            "<class 'pandas.core.frame.DataFrame'>\n",
            "Index: 19 entries, Ворскла Динамо to Шахтер Динамо\n",
            "Data columns (total 2 columns):\n",
            " #   Column        Non-Null Count  Dtype  \n",
            "---  ------        --------------  -----  \n",
            " 0   Луческу       19 non-null     float64\n",
            " 1   Михайличенко  19 non-null     float64\n",
            "dtypes: float64(2)\n",
            "memory usage: 456.0+ bytes\n"
          ]
        }
      ]
    },
    {
      "cell_type": "code",
      "metadata": {
        "colab": {
          "base_uri": "https://localhost:8080/"
        },
        "id": "nWl6I2hvy2kD",
        "outputId": "e2721629-3af6-4248-d6d1-23700a8af3fd"
      },
      "source": [
        "df_l_m['Луческу'].value_counts()"
      ],
      "execution_count": null,
      "outputs": [
        {
          "output_type": "execute_result",
          "data": {
            "text/plain": [
              "1.0    13\n",
              "0.0     6\n",
              "Name: Луческу, dtype: int64"
            ]
          },
          "metadata": {},
          "execution_count": 21
        }
      ]
    },
    {
      "cell_type": "code",
      "metadata": {
        "colab": {
          "base_uri": "https://localhost:8080/"
        },
        "id": "6QTMKdT3zCWB",
        "outputId": "ed42907d-7575-43f8-d13c-c74b267e5a76"
      },
      "source": [
        "df_l_m['Михайличенко'].value_counts()"
      ],
      "execution_count": null,
      "outputs": [
        {
          "output_type": "execute_result",
          "data": {
            "text/plain": [
              "1.0    14\n",
              "0.0     5\n",
              "Name: Михайличенко, dtype: int64"
            ]
          },
          "metadata": {},
          "execution_count": 22
        }
      ]
    },
    {
      "cell_type": "code",
      "metadata": {
        "colab": {
          "base_uri": "https://localhost:8080/",
          "height": 297
        },
        "id": "pbbnXrl_0eQK",
        "outputId": "daec7448-c69d-4d1e-89bd-84826f981fb2"
      },
      "source": [
        "df_l_m.describe()"
      ],
      "execution_count": null,
      "outputs": [
        {
          "output_type": "execute_result",
          "data": {
            "text/html": [
              "<div>\n",
              "<style scoped>\n",
              "    .dataframe tbody tr th:only-of-type {\n",
              "        vertical-align: middle;\n",
              "    }\n",
              "\n",
              "    .dataframe tbody tr th {\n",
              "        vertical-align: top;\n",
              "    }\n",
              "\n",
              "    .dataframe thead th {\n",
              "        text-align: right;\n",
              "    }\n",
              "</style>\n",
              "<table border=\"1\" class=\"dataframe\">\n",
              "  <thead>\n",
              "    <tr style=\"text-align: right;\">\n",
              "      <th>Тренер</th>\n",
              "      <th>Луческу</th>\n",
              "      <th>Михайличенко</th>\n",
              "    </tr>\n",
              "  </thead>\n",
              "  <tbody>\n",
              "    <tr>\n",
              "      <th>count</th>\n",
              "      <td>19.000000</td>\n",
              "      <td>19.000000</td>\n",
              "    </tr>\n",
              "    <tr>\n",
              "      <th>mean</th>\n",
              "      <td>0.684211</td>\n",
              "      <td>0.736842</td>\n",
              "    </tr>\n",
              "    <tr>\n",
              "      <th>std</th>\n",
              "      <td>0.477567</td>\n",
              "      <td>0.452414</td>\n",
              "    </tr>\n",
              "    <tr>\n",
              "      <th>min</th>\n",
              "      <td>0.000000</td>\n",
              "      <td>0.000000</td>\n",
              "    </tr>\n",
              "    <tr>\n",
              "      <th>25%</th>\n",
              "      <td>0.000000</td>\n",
              "      <td>0.500000</td>\n",
              "    </tr>\n",
              "    <tr>\n",
              "      <th>50%</th>\n",
              "      <td>1.000000</td>\n",
              "      <td>1.000000</td>\n",
              "    </tr>\n",
              "    <tr>\n",
              "      <th>75%</th>\n",
              "      <td>1.000000</td>\n",
              "      <td>1.000000</td>\n",
              "    </tr>\n",
              "    <tr>\n",
              "      <th>max</th>\n",
              "      <td>1.000000</td>\n",
              "      <td>1.000000</td>\n",
              "    </tr>\n",
              "  </tbody>\n",
              "</table>\n",
              "</div>"
            ],
            "text/plain": [
              "Тренер    Луческу  Михайличенко\n",
              "count   19.000000     19.000000\n",
              "mean     0.684211      0.736842\n",
              "std      0.477567      0.452414\n",
              "min      0.000000      0.000000\n",
              "25%      0.000000      0.500000\n",
              "50%      1.000000      1.000000\n",
              "75%      1.000000      1.000000\n",
              "max      1.000000      1.000000"
            ]
          },
          "metadata": {},
          "execution_count": 23
        }
      ]
    },
    {
      "cell_type": "markdown",
      "metadata": {
        "id": "QpSKxeVraJGQ"
      },
      "source": [
        "# Data Analysis: Confidence interval"
      ]
    },
    {
      "cell_type": "code",
      "metadata": {
        "colab": {
          "base_uri": "https://localhost:8080/"
        },
        "id": "0sDKSScuaNhK",
        "outputId": "3d88254d-11ee-4ca2-d6f0-19facbc05d83"
      },
      "source": [
        "df[df['Тренер'] == 'Луческу']['Победа'].value_counts()"
      ],
      "execution_count": null,
      "outputs": [
        {
          "output_type": "execute_result",
          "data": {
            "text/plain": [
              "1    20\n",
              "0     6\n",
              "Name: Победа, dtype: int64"
            ]
          },
          "metadata": {},
          "execution_count": 24
        }
      ]
    },
    {
      "cell_type": "code",
      "metadata": {
        "colab": {
          "base_uri": "https://localhost:8080/"
        },
        "id": "-WCQWT-1eDnO",
        "outputId": "8771ed20-7025-4759-d483-c844d42eb7b5"
      },
      "source": [
        "df[df['Тренер'] == 'Михайличенко']['Победа'].value_counts()"
      ],
      "execution_count": null,
      "outputs": [
        {
          "output_type": "execute_result",
          "data": {
            "text/plain": [
              "1    16\n",
              "0    13\n",
              "Name: Победа, dtype: int64"
            ]
          },
          "metadata": {},
          "execution_count": 25
        }
      ]
    },
    {
      "cell_type": "markdown",
      "metadata": {
        "id": "MsGwERu9eeZf"
      },
      "source": [
        "## Точечная оценка доли"
      ]
    },
    {
      "cell_type": "code",
      "metadata": {
        "colab": {
          "base_uri": "https://localhost:8080/"
        },
        "id": "uZrGNEfyeT_3",
        "outputId": "c6fd36e4-341f-4446-f54f-dc796b4606e3"
      },
      "source": [
        "df[df['Тренер'] == 'Луческу']['Победа'].mean()"
      ],
      "execution_count": null,
      "outputs": [
        {
          "output_type": "execute_result",
          "data": {
            "text/plain": [
              "0.7692307692307693"
            ]
          },
          "metadata": {},
          "execution_count": 26
        }
      ]
    },
    {
      "cell_type": "code",
      "metadata": {
        "colab": {
          "base_uri": "https://localhost:8080/"
        },
        "id": "J1ZgrLyWeZHH",
        "outputId": "2427e696-db41-4d3a-e82f-2ba088b35ef0"
      },
      "source": [
        "df[df['Тренер'] == 'Михайличенко']['Победа'].mean()"
      ],
      "execution_count": null,
      "outputs": [
        {
          "output_type": "execute_result",
          "data": {
            "text/plain": [
              "0.5517241379310345"
            ]
          },
          "metadata": {},
          "execution_count": 27
        }
      ]
    },
    {
      "cell_type": "code",
      "metadata": {
        "id": "opf_J_rsfaWT"
      },
      "source": [
        "df_lu = df[df['Тренер'] == 'Луческу']['Победа']\n",
        "df_mi = df[df['Тренер'] == 'Михайличенко']['Победа']"
      ],
      "execution_count": null,
      "outputs": []
    },
    {
      "cell_type": "markdown",
      "metadata": {
        "id": "QLwai3ZFfRPl"
      },
      "source": [
        "## Интервальные оценки долей по методу Уилсона"
      ]
    },
    {
      "cell_type": "code",
      "metadata": {
        "id": "8J9Do6PEfUlO"
      },
      "source": [
        "conf_interval_mi_a = proportion_confint(sum(df_mi), \n",
        "                                            df_mi.shape[0],\n",
        "                                            method = 'wilson')\n",
        "conf_interval_lu_b = proportion_confint(sum(df_lu), \n",
        "                                            df_lu.shape[0],\n",
        "                                            method = 'wilson')"
      ],
      "execution_count": null,
      "outputs": []
    },
    {
      "cell_type": "code",
      "metadata": {
        "colab": {
          "base_uri": "https://localhost:8080/"
        },
        "id": "2m6W0scMgCVb",
        "outputId": "c87fbdd0-cac5-440a-982b-257f2304ee7a"
      },
      "source": [
        "print('interval for Mihaylichenko [%f, %f]' % conf_interval_mi_a)\n",
        "print('interval for Luchesku [%f, %f]' % conf_interval_lu_b)"
      ],
      "execution_count": null,
      "outputs": [
        {
          "output_type": "stream",
          "name": "stdout",
          "text": [
            "interval for Mihaylichenko [0.375480, 0.715868]\n",
            "interval for Luchesku [0.579484, 0.889662]\n"
          ]
        }
      ]
    },
    {
      "cell_type": "markdown",
      "metadata": {
        "id": "nAYf45X5glG9"
      },
      "source": [
        "## Доверительный интервал для разности долей (независимые выборки)"
      ]
    },
    {
      "cell_type": "code",
      "metadata": {
        "id": "RT1pW-iOgnLJ"
      },
      "source": [
        "def proportions_confint_diff_ind(sample1, sample2, alpha = 0.05):    \n",
        "    z = scipy.stats.norm.ppf(1 - alpha / 2.)   \n",
        "    p1 = float(sum(sample1)) / len(sample1)\n",
        "    p2 = float(sum(sample2)) / len(sample2)\n",
        "    \n",
        "    left_boundary = (p1 - p2) - z * np.sqrt(p1 * (1 - p1)/ len(sample1) + p2 * (1 - p2)/ len(sample2))\n",
        "    right_boundary = (p1 - p2) + z * np.sqrt(p1 * (1 - p1)/ len(sample1) + p2 * (1 - p2)/ len(sample2))\n",
        "    \n",
        "    return (left_boundary, right_boundary)"
      ],
      "execution_count": null,
      "outputs": []
    },
    {
      "cell_type": "code",
      "metadata": {
        "colab": {
          "base_uri": "https://localhost:8080/"
        },
        "id": "DkwoymcKgtVm",
        "outputId": "447ccfd9-1433-4d0a-bf1c-980a173e2b2c"
      },
      "source": [
        "print(\"confidence interval: [%f, %f]\" % proportions_confint_diff_ind(df_mi, df_lu))"
      ],
      "execution_count": null,
      "outputs": [
        {
          "output_type": "stream",
          "name": "stdout",
          "text": [
            "confidence interval: [-0.460383, 0.025370]\n"
          ]
        }
      ]
    },
    {
      "cell_type": "markdown",
      "metadata": {
        "id": "-YvJ0HtahCAL"
      },
      "source": [
        "## Доверительный интервал для разности долей (связанные выборки)"
      ]
    },
    {
      "cell_type": "markdown",
      "metadata": {
        "id": "K70EGz5ekJ49"
      },
      "source": [
        "Для расчета возьмем только те матчи, которые были и у Луческу и Михайличеснко. Если матчей сыграно было несколько раз, то берем максимальный показатель."
      ]
    },
    {
      "cell_type": "code",
      "metadata": {
        "id": "dh_3DA22hDob"
      },
      "source": [
        "def proportions_confint_diff_rel(sample1, sample2, alpha = 0.05):\n",
        "    z = scipy.stats.norm.ppf(1 - alpha / 2.)\n",
        "    sample = list(zip(sample1, sample2))\n",
        "    n = len(sample)\n",
        "        \n",
        "    f = sum([1 if (x[0] == 1 and x[1] == 0) else 0 for x in sample])\n",
        "    g = sum([1 if (x[0] == 0 and x[1] == 1) else 0 for x in sample])\n",
        "    \n",
        "    left_boundary = float(f - g) / n  - z * np.sqrt(float((f + g)) / n**2 - float((f - g)**2) / n**3)\n",
        "    right_boundary = float(f - g) / n  + z * np.sqrt(float((f + g)) / n**2 - float((f - g)**2) / n**3)\n",
        "    return (left_boundary, right_boundary)"
      ],
      "execution_count": null,
      "outputs": []
    },
    {
      "cell_type": "code",
      "metadata": {
        "colab": {
          "base_uri": "https://localhost:8080/"
        },
        "id": "NcqupjDlhHpM",
        "outputId": "b06d371d-7993-4308-c0c9-7de67ee6c5c7"
      },
      "source": [
        "print(\"confidence interval: [%f, %f]\" % proportions_confint_diff_rel(df_l_m['Михайличенко'], df_l_m['Луческу']))"
      ],
      "execution_count": null,
      "outputs": [
        {
          "output_type": "stream",
          "name": "stdout",
          "text": [
            "confidence interval: [-0.219266, 0.324529]\n"
          ]
        }
      ]
    },
    {
      "cell_type": "markdown",
      "metadata": {
        "id": "kHNpVH33ki0X"
      },
      "source": [
        "Для расчета возьмем только те матчи, которые были и у Луческу и Михайличеснко. Если матчей сыграно было несколько раз, то берем минимальный показатель."
      ]
    },
    {
      "cell_type": "code",
      "metadata": {
        "colab": {
          "base_uri": "https://localhost:8080/",
          "height": 669
        },
        "id": "npwQIL6kkpdE",
        "outputId": "60e50b3e-7cbb-458a-c647-b3a79a9bab35"
      },
      "source": [
        "df_l_min = pd.pivot_table(df, values='Победа', index='Матч', columns='Тренер', aggfunc='min')\n",
        "df_l_min.dropna(inplace=True)\n",
        "df_l_min"
      ],
      "execution_count": null,
      "outputs": [
        {
          "output_type": "execute_result",
          "data": {
            "text/html": [
              "<div>\n",
              "<style scoped>\n",
              "    .dataframe tbody tr th:only-of-type {\n",
              "        vertical-align: middle;\n",
              "    }\n",
              "\n",
              "    .dataframe tbody tr th {\n",
              "        vertical-align: top;\n",
              "    }\n",
              "\n",
              "    .dataframe thead th {\n",
              "        text-align: right;\n",
              "    }\n",
              "</style>\n",
              "<table border=\"1\" class=\"dataframe\">\n",
              "  <thead>\n",
              "    <tr style=\"text-align: right;\">\n",
              "      <th>Тренер</th>\n",
              "      <th>Луческу</th>\n",
              "      <th>Михайличенко</th>\n",
              "    </tr>\n",
              "    <tr>\n",
              "      <th>Матч</th>\n",
              "      <th></th>\n",
              "      <th></th>\n",
              "    </tr>\n",
              "  </thead>\n",
              "  <tbody>\n",
              "    <tr>\n",
              "      <th>Ворскла Динамо</th>\n",
              "      <td>1.0</td>\n",
              "      <td>1.0</td>\n",
              "    </tr>\n",
              "    <tr>\n",
              "      <th>Десна Динамо</th>\n",
              "      <td>0.0</td>\n",
              "      <td>0.0</td>\n",
              "    </tr>\n",
              "    <tr>\n",
              "      <th>Динамо Ворскла</th>\n",
              "      <td>1.0</td>\n",
              "      <td>1.0</td>\n",
              "    </tr>\n",
              "    <tr>\n",
              "      <th>Динамо Десна</th>\n",
              "      <td>0.0</td>\n",
              "      <td>0.0</td>\n",
              "    </tr>\n",
              "    <tr>\n",
              "      <th>Динамо Заря</th>\n",
              "      <td>0.0</td>\n",
              "      <td>0.0</td>\n",
              "    </tr>\n",
              "    <tr>\n",
              "      <th>Динамо Колос</th>\n",
              "      <td>0.0</td>\n",
              "      <td>1.0</td>\n",
              "    </tr>\n",
              "    <tr>\n",
              "      <th>Динамо Олимпик</th>\n",
              "      <td>1.0</td>\n",
              "      <td>0.0</td>\n",
              "    </tr>\n",
              "    <tr>\n",
              "      <th>Динамо СК Днепр-1</th>\n",
              "      <td>1.0</td>\n",
              "      <td>1.0</td>\n",
              "    </tr>\n",
              "    <tr>\n",
              "      <th>Динамо ФК Александрия</th>\n",
              "      <td>1.0</td>\n",
              "      <td>1.0</td>\n",
              "    </tr>\n",
              "    <tr>\n",
              "      <th>Динамо ФК Львов</th>\n",
              "      <td>1.0</td>\n",
              "      <td>1.0</td>\n",
              "    </tr>\n",
              "    <tr>\n",
              "      <th>Динамо ФК Мариуполь</th>\n",
              "      <td>0.0</td>\n",
              "      <td>1.0</td>\n",
              "    </tr>\n",
              "    <tr>\n",
              "      <th>Динамо Шахтер</th>\n",
              "      <td>0.0</td>\n",
              "      <td>0.0</td>\n",
              "    </tr>\n",
              "    <tr>\n",
              "      <th>Заря Динамо</th>\n",
              "      <td>1.0</td>\n",
              "      <td>0.0</td>\n",
              "    </tr>\n",
              "    <tr>\n",
              "      <th>Колос Динамо</th>\n",
              "      <td>1.0</td>\n",
              "      <td>0.0</td>\n",
              "    </tr>\n",
              "    <tr>\n",
              "      <th>Олимпик Динамо</th>\n",
              "      <td>1.0</td>\n",
              "      <td>1.0</td>\n",
              "    </tr>\n",
              "    <tr>\n",
              "      <th>СК Днепр-1 Динамо</th>\n",
              "      <td>1.0</td>\n",
              "      <td>0.0</td>\n",
              "    </tr>\n",
              "    <tr>\n",
              "      <th>ФК Александрия Динамо</th>\n",
              "      <td>1.0</td>\n",
              "      <td>0.0</td>\n",
              "    </tr>\n",
              "    <tr>\n",
              "      <th>ФК Мариуполь Динамо</th>\n",
              "      <td>1.0</td>\n",
              "      <td>1.0</td>\n",
              "    </tr>\n",
              "    <tr>\n",
              "      <th>Шахтер Динамо</th>\n",
              "      <td>1.0</td>\n",
              "      <td>0.0</td>\n",
              "    </tr>\n",
              "  </tbody>\n",
              "</table>\n",
              "</div>"
            ],
            "text/plain": [
              "Тренер                 Луческу  Михайличенко\n",
              "Матч                                        \n",
              "Ворскла Динамо             1.0           1.0\n",
              "Десна Динамо               0.0           0.0\n",
              "Динамо Ворскла             1.0           1.0\n",
              "Динамо Десна               0.0           0.0\n",
              "Динамо Заря                0.0           0.0\n",
              "Динамо Колос               0.0           1.0\n",
              "Динамо Олимпик             1.0           0.0\n",
              "Динамо СК Днепр-1          1.0           1.0\n",
              "Динамо ФК Александрия      1.0           1.0\n",
              "Динамо ФК Львов            1.0           1.0\n",
              "Динамо ФК Мариуполь        0.0           1.0\n",
              "Динамо Шахтер              0.0           0.0\n",
              "Заря Динамо                1.0           0.0\n",
              "Колос Динамо               1.0           0.0\n",
              "Олимпик Динамо             1.0           1.0\n",
              "СК Днепр-1 Динамо          1.0           0.0\n",
              "ФК Александрия Динамо      1.0           0.0\n",
              "ФК Мариуполь Динамо        1.0           1.0\n",
              "Шахтер Динамо              1.0           0.0"
            ]
          },
          "metadata": {},
          "execution_count": 35
        }
      ]
    },
    {
      "cell_type": "code",
      "metadata": {
        "colab": {
          "base_uri": "https://localhost:8080/"
        },
        "id": "9gEZX3rplFf_",
        "outputId": "217807df-d961-43e8-8882-6b042bc7daa7"
      },
      "source": [
        "print(\"confidence interval: [%f, %f]\" % proportions_confint_diff_rel(df_l_min['Михайличенко'], df_l_min['Луческу']))"
      ],
      "execution_count": null,
      "outputs": [
        {
          "output_type": "stream",
          "name": "stdout",
          "text": [
            "confidence interval: [-0.486512, 0.065460]\n"
          ]
        }
      ]
    },
    {
      "cell_type": "markdown",
      "metadata": {
        "id": "-UJID98TmFv3"
      },
      "source": [
        "## Размер выборки для интервала заданной ширины"
      ]
    },
    {
      "cell_type": "code",
      "metadata": {
        "colab": {
          "base_uri": "https://localhost:8080/"
        },
        "id": "PPazX3tYmTSh",
        "outputId": "fe77cd37-0b68-4771-9ff7-0b0602d39024"
      },
      "source": [
        "# ширина интервала для разности долей(независимой выборки)\n",
        "\n",
        "w_confint_diff_ind = proportions_confint_diff_ind(df_mi, df_lu)[1] - proportions_confint_diff_ind(df_mi, df_lu)[0]\n",
        "w_confint_diff_ind"
      ],
      "execution_count": null,
      "outputs": [
        {
          "output_type": "execute_result",
          "data": {
            "text/plain": [
              "0.48575368723499857"
            ]
          },
          "metadata": {},
          "execution_count": 37
        }
      ]
    },
    {
      "cell_type": "code",
      "metadata": {
        "colab": {
          "base_uri": "https://localhost:8080/"
        },
        "id": "-9UVMEILnyon",
        "outputId": "dfe3a04e-b753-41fa-d52b-75e3e250cefc"
      },
      "source": [
        "print(df_lu.shape[0])\n",
        "print(df_mi.shape[0])"
      ],
      "execution_count": null,
      "outputs": [
        {
          "output_type": "stream",
          "name": "stdout",
          "text": [
            "26\n",
            "29\n"
          ]
        }
      ]
    },
    {
      "cell_type": "code",
      "metadata": {
        "colab": {
          "base_uri": "https://localhost:8080/"
        },
        "id": "kAxnq76BnM_6",
        "outputId": "3873c61b-ca76-48a7-82d7-0ff4d36bcbd2"
      },
      "source": [
        "n_samples = int(np.ceil(samplesize_confint_proportion(df_lu.mean(), half_length=0.15, method='normal')))\n",
        "n_samples"
      ],
      "execution_count": null,
      "outputs": [
        {
          "output_type": "execute_result",
          "data": {
            "text/plain": [
              "31"
            ]
          },
          "metadata": {},
          "execution_count": 39
        }
      ]
    },
    {
      "cell_type": "markdown",
      "metadata": {
        "id": "8jIo2GNHvC1Z"
      },
      "source": [
        "## Доверительный интервал на основе Bootstrap"
      ]
    },
    {
      "cell_type": "code",
      "metadata": {
        "id": "g3QEZVw1vIyo"
      },
      "source": [
        "def get_bootstrap_samples(data, n_samples):\n",
        "    indices = np.random.randint(0, len(data), (n_samples, len(data)))\n",
        "    samples = data[indices]\n",
        "    return samples"
      ],
      "execution_count": null,
      "outputs": []
    },
    {
      "cell_type": "markdown",
      "metadata": {
        "id": "Qk9dTof9vq51"
      },
      "source": [
        "### Интервальная оценка среднего"
      ]
    },
    {
      "cell_type": "code",
      "metadata": {
        "colab": {
          "base_uri": "https://localhost:8080/"
        },
        "id": "Q3VuQdVYbtV-",
        "outputId": "80ddd265-29f3-4bf5-b831-9ab7db4ab8da"
      },
      "source": [
        "n_samples_b = 30\n",
        "\n",
        "lu_mean_scores = list(map(np.mean, get_bootstrap_samples(df_lu.values, n_samples_b)))\n",
        "mi_mean_scores = list(map(np.mean, get_bootstrap_samples(df_mi.values, n_samples_b)))\n",
        "\n",
        "\n",
        "conf_interval_mi_a = proportion_confint(sum(mi_mean_scores), \n",
        "                                            n_samples_b,\n",
        "                                            method = 'wilson')\n",
        "conf_interval_lu_b = proportion_confint(sum(lu_mean_scores), \n",
        "                                            n_samples_b,\n",
        "                                            method = 'wilson')\n",
        "\n",
        "\n",
        "print('interval for Mihaylichenko [%f, %f]' % conf_interval_mi_a)\n",
        "print('interval for Luchesku [%f, %f]' % conf_interval_lu_b)"
      ],
      "execution_count": null,
      "outputs": [
        {
          "output_type": "stream",
          "name": "stdout",
          "text": [
            "interval for Mihaylichenko [0.383478, 0.718417]\n",
            "interval for Luchesku [0.604521, 0.891003]\n"
          ]
        }
      ]
    },
    {
      "cell_type": "code",
      "metadata": {
        "colab": {
          "base_uri": "https://localhost:8080/"
        },
        "id": "XygiJm4_bBGh",
        "outputId": "7852e547-ac6b-4a81-baa4-1ec4f52a6c8d"
      },
      "source": [
        "n_samples_b = 75\n",
        "\n",
        "lu_mean_scores = list(map(np.mean, get_bootstrap_samples(df_lu.values, n_samples_b)))\n",
        "mi_mean_scores = list(map(np.mean, get_bootstrap_samples(df_mi.values, n_samples_b)))\n",
        "\n",
        "\n",
        "conf_interval_mi_a = proportion_confint(sum(mi_mean_scores), \n",
        "                                            n_samples_b,\n",
        "                                            method = 'wilson')\n",
        "conf_interval_lu_b = proportion_confint(sum(lu_mean_scores), \n",
        "                                            n_samples_b,\n",
        "                                            method = 'wilson')\n",
        "\n",
        "\n",
        "print('interval for Mihaylichenko [%f, %f]' % conf_interval_mi_a)\n",
        "print('interval for Luchesku [%f, %f]' % conf_interval_lu_b)"
      ],
      "execution_count": null,
      "outputs": [
        {
          "output_type": "stream",
          "name": "stdout",
          "text": [
            "interval for Mihaylichenko [0.435823, 0.655587]\n",
            "interval for Luchesku [0.657195, 0.846250]\n"
          ]
        }
      ]
    },
    {
      "cell_type": "code",
      "metadata": {
        "id": "ZP_2OQaJ0xwB"
      },
      "source": [
        "n_samples_b = 300"
      ],
      "execution_count": null,
      "outputs": []
    },
    {
      "cell_type": "code",
      "metadata": {
        "id": "sb0st-2evt0_"
      },
      "source": [
        "lu_mean_scores = list(map(np.mean, get_bootstrap_samples(df_lu.values, n_samples_b)))\n",
        "mi_mean_scores = list(map(np.mean, get_bootstrap_samples(df_mi.values, n_samples_b)))"
      ],
      "execution_count": null,
      "outputs": []
    },
    {
      "cell_type": "code",
      "metadata": {
        "id": "IefyBY-xvlK1"
      },
      "source": [
        "conf_interval_mi_a = proportion_confint(sum(mi_mean_scores), \n",
        "                                            n_samples_b,\n",
        "                                            method = 'wilson')\n",
        "conf_interval_lu_b = proportion_confint(sum(lu_mean_scores), \n",
        "                                            n_samples_b,\n",
        "                                            method = 'wilson')"
      ],
      "execution_count": null,
      "outputs": []
    },
    {
      "cell_type": "code",
      "metadata": {
        "colab": {
          "base_uri": "https://localhost:8080/"
        },
        "id": "qUpSrKBMyhBN",
        "outputId": "b3217a5f-d6f0-4359-e75c-528439965e69"
      },
      "source": [
        "print('interval for Mihaylichenko [%f, %f]' % conf_interval_mi_a)\n",
        "print('interval for Luchesku [%f, %f]' % conf_interval_lu_b)"
      ],
      "execution_count": null,
      "outputs": [
        {
          "output_type": "stream",
          "name": "stdout",
          "text": [
            "interval for Mihaylichenko [0.499053, 0.610805]\n",
            "interval for Luchesku [0.711691, 0.807558]\n"
          ]
        }
      ]
    },
    {
      "cell_type": "markdown",
      "metadata": {
        "id": "kGdVGg3TXeQF"
      },
      "source": [
        "Посмотрим как изменяется разница между интервалами в зависимости от количества бутстрап-выборок."
      ]
    },
    {
      "cell_type": "code",
      "metadata": {
        "id": "kIxUgNaN5it3"
      },
      "source": [
        "n_samples_bo = 200\n",
        "min_n_samples = 10\n",
        "interval_delta = []\n",
        "\n",
        "\n",
        "for n in range(min_n_samples,n_samples_bo+1,1):\n",
        "  lu_mean_scores = list(map(np.mean, get_bootstrap_samples(df_lu.values, n)))\n",
        "  mi_mean_scores = list(map(np.mean, get_bootstrap_samples(df_mi.values, n)))\n",
        "  conf_interval_mi_a = proportion_confint(sum(mi_mean_scores), \n",
        "                                            n,\n",
        "                                            method = 'wilson')\n",
        "  conf_interval_lu_b = proportion_confint(sum(lu_mean_scores), \n",
        "                                            n,\n",
        "                                            method = 'wilson')\n",
        "  interval_delta.append(conf_interval_lu_b[0] - conf_interval_mi_a[1])"
      ],
      "execution_count": null,
      "outputs": []
    },
    {
      "cell_type": "code",
      "metadata": {
        "colab": {
          "base_uri": "https://localhost:8080/",
          "height": 204
        },
        "id": "p5oyKeeG_PR7",
        "outputId": "356c6133-48e0-4eb1-ee4d-19c51146fd0f"
      },
      "source": [
        "df_d_m_l = pd.DataFrame(interval_delta,columns=['delta_interval', ])\n",
        "df_d_m_l['n_samples'] = pd.DataFrame(list(range(min_n_samples,n_samples_bo+1,1)))\n",
        "df_d_m_l.head()"
      ],
      "execution_count": null,
      "outputs": [
        {
          "output_type": "execute_result",
          "data": {
            "text/html": [
              "<div>\n",
              "<style scoped>\n",
              "    .dataframe tbody tr th:only-of-type {\n",
              "        vertical-align: middle;\n",
              "    }\n",
              "\n",
              "    .dataframe tbody tr th {\n",
              "        vertical-align: top;\n",
              "    }\n",
              "\n",
              "    .dataframe thead th {\n",
              "        text-align: right;\n",
              "    }\n",
              "</style>\n",
              "<table border=\"1\" class=\"dataframe\">\n",
              "  <thead>\n",
              "    <tr style=\"text-align: right;\">\n",
              "      <th></th>\n",
              "      <th>delta_interval</th>\n",
              "      <th>n_samples</th>\n",
              "    </tr>\n",
              "  </thead>\n",
              "  <tbody>\n",
              "    <tr>\n",
              "      <th>0</th>\n",
              "      <td>-0.350468</td>\n",
              "      <td>10</td>\n",
              "    </tr>\n",
              "    <tr>\n",
              "      <th>1</th>\n",
              "      <td>-0.354054</td>\n",
              "      <td>11</td>\n",
              "    </tr>\n",
              "    <tr>\n",
              "      <th>2</th>\n",
              "      <td>-0.314760</td>\n",
              "      <td>12</td>\n",
              "    </tr>\n",
              "    <tr>\n",
              "      <th>3</th>\n",
              "      <td>-0.258625</td>\n",
              "      <td>13</td>\n",
              "    </tr>\n",
              "    <tr>\n",
              "      <th>4</th>\n",
              "      <td>-0.292718</td>\n",
              "      <td>14</td>\n",
              "    </tr>\n",
              "  </tbody>\n",
              "</table>\n",
              "</div>"
            ],
            "text/plain": [
              "   delta_interval  n_samples\n",
              "0       -0.350468         10\n",
              "1       -0.354054         11\n",
              "2       -0.314760         12\n",
              "3       -0.258625         13\n",
              "4       -0.292718         14"
            ]
          },
          "metadata": {},
          "execution_count": 48
        }
      ]
    },
    {
      "cell_type": "code",
      "metadata": {
        "colab": {
          "base_uri": "https://localhost:8080/",
          "height": 402
        },
        "id": "x-Jj7IwERfMr",
        "outputId": "be8be448-eda0-4e6b-8aac-70dafa47dddb"
      },
      "source": [
        "plt.figure(figsize=(16, 6))\n",
        "sns.set_style('whitegrid')\n",
        "sns.scatterplot(x=df_d_m_l['n_samples'], \n",
        "                y=df_d_m_l['delta_interval'], \n",
        "                hue=df_d_m_l['delta_interval'].apply(lambda x: '> 0' if x > 0 else '< 0'))"
      ],
      "execution_count": null,
      "outputs": [
        {
          "output_type": "execute_result",
          "data": {
            "text/plain": [
              "<matplotlib.axes._subplots.AxesSubplot at 0x7f4fec8d5f50>"
            ]
          },
          "metadata": {},
          "execution_count": 49
        },
        {
          "output_type": "display_data",
          "data": {
            "image/png": "[encoded data removed]",
            "text/plain": [
              "<Figure size 1152x432 with 1 Axes>"
            ]
          },
          "metadata": {
            "needs_background": "light"
          }
        }
      ]
    },
    {
      "cell_type": "markdown",
      "metadata": {
        "id": "ffll26EB8XpD"
      },
      "source": [
        "## Z-критерий для разности долей (независимые выборки)"
      ]
    },
    {
      "cell_type": "code",
      "metadata": {
        "id": "fXw-9Bm28fsP"
      },
      "source": [
        "def proportions_diff_confint_ind(sample1, sample2, alpha = 0.05):  \n",
        "    z = scipy.stats.norm.ppf(1 - alpha / 2.)\n",
        "    \n",
        "    p1 = float(sum(sample1)) / len(sample1)\n",
        "    p2 = float(sum(sample2)) / len(sample2)\n",
        "    \n",
        "    left_boundary = (p1 - p2) - z * np.sqrt(p1 * (1 - p1)/ len(sample1) + p2 * (1 - p2)/ len(sample2))\n",
        "    right_boundary = (p1 - p2) + z * np.sqrt(p1 * (1 - p1)/ len(sample1) + p2 * (1 - p2)/ len(sample2))\n",
        "    \n",
        "    return (left_boundary, right_boundary)\n",
        "\n",
        "\n",
        "def proportions_diff_z_stat_ind(sample1, sample2):\n",
        "    n1 = len(sample1)\n",
        "    n2 = len(sample2)\n",
        "    \n",
        "    p1 = float(sum(sample1)) / n1\n",
        "    p2 = float(sum(sample2)) / n2 \n",
        "    P = float(p1*n1 + p2*n2) / (n1 + n2)\n",
        "    \n",
        "    return (p1 - p2) / np.sqrt(P * (1 - P) * (1. / n1 + 1. / n2))\n",
        "\n",
        "\n",
        "def proportions_diff_z_test(z_stat, alternative = 'two-sided'):\n",
        "    if alternative not in ('two-sided', 'less', 'greater'):\n",
        "        raise ValueError(\"alternative not recognized\\n\"\n",
        "                         \"should be 'two-sided', 'less' or 'greater'\")\n",
        "    \n",
        "    if alternative == 'two-sided':\n",
        "        return 2 * (1 - scipy.stats.norm.cdf(np.abs(z_stat)))\n",
        "    \n",
        "    if alternative == 'less':\n",
        "        return scipy.stats.norm.cdf(z_stat)\n",
        "\n",
        "    if alternative == 'greater':\n",
        "        return 1 - scipy.stats.norm.cdf(z_stat)"
      ],
      "execution_count": null,
      "outputs": []
    },
    {
      "cell_type": "code",
      "metadata": {
        "colab": {
          "base_uri": "https://localhost:8080/"
        },
        "id": "MOcMIWdJ82mn",
        "outputId": "1b57072e-e797-4833-fd5a-8a009a586f88"
      },
      "source": [
        "print(\"95%% confidence interval for a difference between proportions: [%f, %f]\" %\\\n",
        "      proportions_diff_confint_ind(df_mi, df_lu))"
      ],
      "execution_count": null,
      "outputs": [
        {
          "output_type": "stream",
          "name": "stdout",
          "text": [
            "95% confidence interval for a difference between proportions: [-0.460383, 0.025370]\n"
          ]
        }
      ]
    },
    {
      "cell_type": "code",
      "metadata": {
        "colab": {
          "base_uri": "https://localhost:8080/"
        },
        "id": "pmewErjT9HeE",
        "outputId": "d17ea356-e7a8-4454-c2e3-f1bd56fff03b"
      },
      "source": [
        "print(\"p-value: %f\" % proportions_diff_z_test(proportions_diff_z_stat_ind(df_mi, df_lu)))"
      ],
      "execution_count": null,
      "outputs": [
        {
          "output_type": "stream",
          "name": "stdout",
          "text": [
            "p-value: 0.090341\n"
          ]
        }
      ]
    },
    {
      "cell_type": "code",
      "metadata": {
        "colab": {
          "base_uri": "https://localhost:8080/"
        },
        "id": "J76_RCwY9PE6",
        "outputId": "dd362f9c-5c05-4671-cb2b-b6ff19416489"
      },
      "source": [
        "print(\"p-value: %f\" % proportions_diff_z_test(proportions_diff_z_stat_ind(df_mi, df_lu), 'less'))"
      ],
      "execution_count": null,
      "outputs": [
        {
          "output_type": "stream",
          "name": "stdout",
          "text": [
            "p-value: 0.045170\n"
          ]
        }
      ]
    },
    {
      "cell_type": "markdown",
      "metadata": {
        "id": "SMAs_VAB-GzV"
      },
      "source": [
        "## Z-критерий для разности долей (связанные выборки)"
      ]
    },
    {
      "cell_type": "markdown",
      "metadata": {
        "id": "U7c0mkbU_ktg"
      },
      "source": [
        "Для расчета возьмем только те матчи, которые были и у Луческу и Михайличеснко. Если матчей сыграно было несколько раз, то берем максимальный показатель."
      ]
    },
    {
      "cell_type": "code",
      "metadata": {
        "id": "q0V-kUmH-GGU"
      },
      "source": [
        "def proportions_diff_confint_rel(sample1, sample2, alpha = 0.05):\n",
        "    z = scipy.stats.norm.ppf(1 - alpha / 2.)\n",
        "    sample = list(zip(sample1, sample2))\n",
        "    n = len(sample)\n",
        "        \n",
        "    f = sum([1 if (x[0] == 1 and x[1] == 0) else 0 for x in sample])\n",
        "    g = sum([1 if (x[0] == 0 and x[1] == 1) else 0 for x in sample])\n",
        "    \n",
        "    left_boundary = float(f - g) / n  - z * np.sqrt(float((f + g)) / n**2 - float((f - g)**2) / n**3)\n",
        "    right_boundary = float(f - g) / n  + z * np.sqrt(float((f + g)) / n**2 - float((f - g)**2) / n**3)\n",
        "    return (left_boundary, right_boundary)\n",
        "\n",
        "\n",
        "def proportions_diff_z_stat_rel(sample1, sample2):\n",
        "    sample = list(zip(sample1, sample2))\n",
        "    n = len(sample)\n",
        "    \n",
        "    f = sum([1 if (x[0] == 1 and x[1] == 0) else 0 for x in sample])\n",
        "    g = sum([1 if (x[0] == 0 and x[1] == 1) else 0 for x in sample])\n",
        "    \n",
        "    return float(f - g) / np.sqrt(f + g - float((f - g)**2) / n )"
      ],
      "execution_count": null,
      "outputs": []
    },
    {
      "cell_type": "code",
      "metadata": {
        "colab": {
          "base_uri": "https://localhost:8080/"
        },
        "id": "tw30sd6R-U4a",
        "outputId": "1a86bc3f-c366-45b2-9bd7-ebf34ab6aa0d"
      },
      "source": [
        "print(\"95%% confidence interval for a difference between proportions: [%f, %f]\" \\\n",
        "      % proportions_diff_confint_rel(df_l_m['Михайличенко'], df_l_m['Луческу']))"
      ],
      "execution_count": null,
      "outputs": [
        {
          "output_type": "stream",
          "name": "stdout",
          "text": [
            "95% confidence interval for a difference between proportions: [-0.219266, 0.324529]\n"
          ]
        }
      ]
    },
    {
      "cell_type": "code",
      "metadata": {
        "colab": {
          "base_uri": "https://localhost:8080/"
        },
        "id": "CJZr4GWU-kye",
        "outputId": "f86ef368-9ceb-4b6f-851e-51cf2f3b68e0"
      },
      "source": [
        "print(\"p-value: %f\" \\\n",
        "      % proportions_diff_z_test(proportions_diff_z_stat_rel(df_l_m['Михайличенко'], df_l_m['Луческу'])))"
      ],
      "execution_count": null,
      "outputs": [
        {
          "output_type": "stream",
          "name": "stdout",
          "text": [
            "p-value: 0.704396\n"
          ]
        }
      ]
    },
    {
      "cell_type": "code",
      "metadata": {
        "colab": {
          "base_uri": "https://localhost:8080/"
        },
        "id": "rdw2mz5q-n7K",
        "outputId": "ea9a84b7-4f35-498a-916e-c0c87199b906"
      },
      "source": [
        "print(\"p-value: %f\" \\\n",
        "      % proportions_diff_z_test(proportions_diff_z_stat_rel(df_l_m['Михайличенко'], df_l_m['Луческу']), 'less'))"
      ],
      "execution_count": null,
      "outputs": [
        {
          "output_type": "stream",
          "name": "stdout",
          "text": [
            "p-value: 0.647802\n"
          ]
        }
      ]
    },
    {
      "cell_type": "markdown",
      "metadata": {
        "id": "xjY_dU_D_PkV"
      },
      "source": [
        "Если матчей сыграно было несколько раз, то берем минимальный показатель."
      ]
    },
    {
      "cell_type": "code",
      "metadata": {
        "colab": {
          "base_uri": "https://localhost:8080/",
          "height": 669
        },
        "id": "uXc42Jqi_QO7",
        "outputId": "c9ba8d44-1569-4589-a100-b019f6e4baf8"
      },
      "source": [
        "df_l_min = pd.pivot_table(df, values='Победа', index='Матч', columns='Тренер', aggfunc='min')\n",
        "df_l_min.dropna(inplace=True)\n",
        "df_l_min"
      ],
      "execution_count": null,
      "outputs": [
        {
          "output_type": "execute_result",
          "data": {
            "text/html": [
              "<div>\n",
              "<style scoped>\n",
              "    .dataframe tbody tr th:only-of-type {\n",
              "        vertical-align: middle;\n",
              "    }\n",
              "\n",
              "    .dataframe tbody tr th {\n",
              "        vertical-align: top;\n",
              "    }\n",
              "\n",
              "    .dataframe thead th {\n",
              "        text-align: right;\n",
              "    }\n",
              "</style>\n",
              "<table border=\"1\" class=\"dataframe\">\n",
              "  <thead>\n",
              "    <tr style=\"text-align: right;\">\n",
              "      <th>Тренер</th>\n",
              "      <th>Луческу</th>\n",
              "      <th>Михайличенко</th>\n",
              "    </tr>\n",
              "    <tr>\n",
              "      <th>Матч</th>\n",
              "      <th></th>\n",
              "      <th></th>\n",
              "    </tr>\n",
              "  </thead>\n",
              "  <tbody>\n",
              "    <tr>\n",
              "      <th>Ворскла Динамо</th>\n",
              "      <td>1.0</td>\n",
              "      <td>1.0</td>\n",
              "    </tr>\n",
              "    <tr>\n",
              "      <th>Десна Динамо</th>\n",
              "      <td>0.0</td>\n",
              "      <td>0.0</td>\n",
              "    </tr>\n",
              "    <tr>\n",
              "      <th>Динамо Ворскла</th>\n",
              "      <td>1.0</td>\n",
              "      <td>1.0</td>\n",
              "    </tr>\n",
              "    <tr>\n",
              "      <th>Динамо Десна</th>\n",
              "      <td>0.0</td>\n",
              "      <td>0.0</td>\n",
              "    </tr>\n",
              "    <tr>\n",
              "      <th>Динамо Заря</th>\n",
              "      <td>0.0</td>\n",
              "      <td>0.0</td>\n",
              "    </tr>\n",
              "    <tr>\n",
              "      <th>Динамо Колос</th>\n",
              "      <td>0.0</td>\n",
              "      <td>1.0</td>\n",
              "    </tr>\n",
              "    <tr>\n",
              "      <th>Динамо Олимпик</th>\n",
              "      <td>1.0</td>\n",
              "      <td>0.0</td>\n",
              "    </tr>\n",
              "    <tr>\n",
              "      <th>Динамо СК Днепр-1</th>\n",
              "      <td>1.0</td>\n",
              "      <td>1.0</td>\n",
              "    </tr>\n",
              "    <tr>\n",
              "      <th>Динамо ФК Александрия</th>\n",
              "      <td>1.0</td>\n",
              "      <td>1.0</td>\n",
              "    </tr>\n",
              "    <tr>\n",
              "      <th>Динамо ФК Львов</th>\n",
              "      <td>1.0</td>\n",
              "      <td>1.0</td>\n",
              "    </tr>\n",
              "    <tr>\n",
              "      <th>Динамо ФК Мариуполь</th>\n",
              "      <td>0.0</td>\n",
              "      <td>1.0</td>\n",
              "    </tr>\n",
              "    <tr>\n",
              "      <th>Динамо Шахтер</th>\n",
              "      <td>0.0</td>\n",
              "      <td>0.0</td>\n",
              "    </tr>\n",
              "    <tr>\n",
              "      <th>Заря Динамо</th>\n",
              "      <td>1.0</td>\n",
              "      <td>0.0</td>\n",
              "    </tr>\n",
              "    <tr>\n",
              "      <th>Колос Динамо</th>\n",
              "      <td>1.0</td>\n",
              "      <td>0.0</td>\n",
              "    </tr>\n",
              "    <tr>\n",
              "      <th>Олимпик Динамо</th>\n",
              "      <td>1.0</td>\n",
              "      <td>1.0</td>\n",
              "    </tr>\n",
              "    <tr>\n",
              "      <th>СК Днепр-1 Динамо</th>\n",
              "      <td>1.0</td>\n",
              "      <td>0.0</td>\n",
              "    </tr>\n",
              "    <tr>\n",
              "      <th>ФК Александрия Динамо</th>\n",
              "      <td>1.0</td>\n",
              "      <td>0.0</td>\n",
              "    </tr>\n",
              "    <tr>\n",
              "      <th>ФК Мариуполь Динамо</th>\n",
              "      <td>1.0</td>\n",
              "      <td>1.0</td>\n",
              "    </tr>\n",
              "    <tr>\n",
              "      <th>Шахтер Динамо</th>\n",
              "      <td>1.0</td>\n",
              "      <td>0.0</td>\n",
              "    </tr>\n",
              "  </tbody>\n",
              "</table>\n",
              "</div>"
            ],
            "text/plain": [
              "Тренер                 Луческу  Михайличенко\n",
              "Матч                                        \n",
              "Ворскла Динамо             1.0           1.0\n",
              "Десна Динамо               0.0           0.0\n",
              "Динамо Ворскла             1.0           1.0\n",
              "Динамо Десна               0.0           0.0\n",
              "Динамо Заря                0.0           0.0\n",
              "Динамо Колос               0.0           1.0\n",
              "Динамо Олимпик             1.0           0.0\n",
              "Динамо СК Днепр-1          1.0           1.0\n",
              "Динамо ФК Александрия      1.0           1.0\n",
              "Динамо ФК Львов            1.0           1.0\n",
              "Динамо ФК Мариуполь        0.0           1.0\n",
              "Динамо Шахтер              0.0           0.0\n",
              "Заря Динамо                1.0           0.0\n",
              "Колос Динамо               1.0           0.0\n",
              "Олимпик Динамо             1.0           1.0\n",
              "СК Днепр-1 Динамо          1.0           0.0\n",
              "ФК Александрия Динамо      1.0           0.0\n",
              "ФК Мариуполь Динамо        1.0           1.0\n",
              "Шахтер Динамо              1.0           0.0"
            ]
          },
          "metadata": {},
          "execution_count": 58
        }
      ]
    },
    {
      "cell_type": "code",
      "metadata": {
        "colab": {
          "base_uri": "https://localhost:8080/"
        },
        "id": "oW58GBm0ABM_",
        "outputId": "633fdb29-6c67-489a-e2c3-111c81cf5042"
      },
      "source": [
        "print(\"95%% confidence interval for a difference between proportions: [%f, %f]\" \\\n",
        "      % proportions_diff_confint_rel(df_l_min['Михайличенко'], df_l_min['Луческу']))"
      ],
      "execution_count": null,
      "outputs": [
        {
          "output_type": "stream",
          "name": "stdout",
          "text": [
            "95% confidence interval for a difference between proportions: [-0.486512, 0.065460]\n"
          ]
        }
      ]
    },
    {
      "cell_type": "code",
      "metadata": {
        "colab": {
          "base_uri": "https://localhost:8080/"
        },
        "id": "A4vrjirAABNC",
        "outputId": "ce2d2499-429f-49b5-e621-0b7c514b5c9b"
      },
      "source": [
        "print(\"p-value: %f\" \\\n",
        "      % proportions_diff_z_test(proportions_diff_z_stat_rel(df_l_min['Михайличенко'], df_l_min['Луческу'])))"
      ],
      "execution_count": null,
      "outputs": [
        {
          "output_type": "stream",
          "name": "stdout",
          "text": [
            "p-value: 0.134891\n"
          ]
        }
      ]
    },
    {
      "cell_type": "code",
      "metadata": {
        "colab": {
          "base_uri": "https://localhost:8080/"
        },
        "id": "8zlhdSA6ABNE",
        "outputId": "b0583bb1-5522-4dad-f3d0-37496ce16216"
      },
      "source": [
        "print(\"p-value: %f\" \\\n",
        "      % proportions_diff_z_test(proportions_diff_z_stat_rel(df_l_min['Михайличенко'], df_l_min['Луческу']), 'less'))"
      ],
      "execution_count": null,
      "outputs": [
        {
          "output_type": "stream",
          "name": "stdout",
          "text": [
            "p-value: 0.067445\n"
          ]
        }
      ]
    },
    {
      "cell_type": "markdown",
      "metadata": {
        "id": "mVDwpaeHVJkc"
      },
      "source": [
        "## Report"
      ]
    },
    {
      "cell_type": "markdown",
      "metadata": {
        "id": "_MmBDUnEVPOI"
      },
      "source": [
        "**Количество матчей:**\n",
        "* Луческу - 26\n",
        "* Михайличенко - 29\n",
        "\n",
        "**Точечная оценка доли побед:**\n",
        "* Луческу - 0.769\n",
        "* Михайличенко - 0.552\n",
        "\n",
        "**Интервальные оценки долей по методу Уилсона:**\n",
        "* Луческу - [0.579484, 0.889662]\n",
        "* Михайличенко - [0.375480, 0.715868]\n",
        "\n",
        "**Доверительный интервал для разности долей (по всем матчам):**\n",
        "* confidence interval: [-0.460383, 0.025370]\n",
        "\n",
        "**Доверительный интервал для разности долей (по одинаковым матчам):**\n",
        "* confidence interval (Max): [-0.219266, 0.324529]\n",
        "* confidence interval (Min): [-0.486512, 0.065460]\n",
        "\n",
        "**Ширина интервала для разности долей(независимой выборки):**\n",
        "* 0,48575\n",
        "\n",
        "**Доверительный интервал на основе Bootstrap(30 samples):**\n",
        "* Луческу - [0.594842, 0.884770]\n",
        "* Михайличенко - [0.355186, 0.691686]\n",
        "\n",
        "**Доверительный интервал на основе Bootstrap(75 samples):**\n",
        "* Луческу - [0.663303, 0.850874]\n",
        "* Михайличенко - [0.663303, 0.850874]\n",
        "\n",
        "**Доверительный интервал на основе Bootstrap(300 samples):**\n",
        "* Луческу - [0.713586, 0.809207]\n",
        "* Михайличенко - [0.496296, 0.608114]\n",
        "\n",
        "\n",
        "**p-value(независимые выборки):**\n",
        "* alternative = two-sided: 0.090341\n",
        "* alternative = less: 0.045170\n",
        "\n",
        "**p-value(одинаковые матчи-Max_result):**\n",
        "* alternative = two-sided: 0.704396\n",
        "* alternative = less:  0.647802\n",
        "\n",
        "**p-value(одинаковые матчи-Min_result):**\n",
        "* alternative = two-sided: 0.134891\n",
        "* alternative = less:  0.067445\n",
        "\n"
      ]
    },
    {
      "cell_type": "markdown",
      "metadata": {
        "id": "ZbsdWOpdc-rE"
      },
      "source": [
        "# Вывод"
      ]
    },
    {
      "cell_type": "markdown",
      "metadata": {
        "id": "rAHzGrVYdSR8"
      },
      "source": [
        "Доля побед Луческу на 0,21 выше чем у Михайлеченко. Хотя максимальное значение доверительного интервала у Луческу больше чем у Михайличенко, интервальные оценки доли побед по методу Уилсона пересекаются, что не дает права однозначно сделать вывод о том, что Луческу лучше, чем Михайличенко. \n",
        "\n",
        "Доверительный интервал для разности долей по всем матчам довольно широкий, значительно смещен влево и едва включает \"0\" (0.025370).\n",
        "\n",
        "Доверительный интервал для разности долей по одинаковым лучшим матчам не показывает различий, а по худшим - смещен влево, при этом \"0\" тоже включает (0.065460).\n",
        "\n",
        "Ширина интервала для разности долей довольно широкая 0,48575, что говорит о невысокой точности. Чтобы увеличить точность и сузить интервал необходимо больше наблюдений.\n",
        "\n",
        "Используя Bootstrap сгенерируемая выборка для 30 наблюдений показала практически такие же значения для доверительного интервала как и реальная выборка.\n",
        "\n",
        "Увеличение Bootstrap-выборки до 75 наблюдений и выше показывает, что доверительные интервалы для средних уже не пересекаются. Гипотеза о равенстве тренеров Луческу и Михайличенко смело отвергается, а значительное смещение доверительного интервала вправо говорит о преимуществе Луческу над Михайличенко.\n",
        "\n",
        "**Итог:**\n",
        "На основании результатов доверительного интервала Bootstrap-выборки и достигаемого уровня значимости(alternative = less: 0.045170), можно утверждать с вероятностью 95%, что по количеству побед в УПЛ без учета одинаковых матчей у тренеров, Луческу лучше тренер, чем Михайличенко. С вероятностью 99% - так утверждать нельзя.\n",
        "\n",
        "**Рекомендации:**\n",
        "В анализе есть только данные по играм Динамо до 20 мая 2021года. Если добавить данные о матчах в УПЛ за август-сентябрь 2021, то увеличение выборки даст более точный результат анализа.\n",
        "\n"
      ]
    }
  ]
}